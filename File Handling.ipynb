{
 "cells": [
  {
   "cell_type": "code",
   "execution_count": 1,
   "id": "d8165bfc",
   "metadata": {},
   "outputs": [],
   "source": [
    "# b = open('<file_name>','<modes>')\n",
    "# b.close()\n",
    "\n",
    "# with open('<file_name>','<modes>') as file:\n",
    "#     <operations>"
   ]
  },
  {
   "cell_type": "code",
   "execution_count": 2,
   "id": "948d79c5",
   "metadata": {},
   "outputs": [],
   "source": [
    "# modes \n",
    "# read -> r\n",
    "# write -> w\n",
    "# create -> x\n",
    "# append -> a"
   ]
  },
  {
   "cell_type": "code",
   "execution_count": 3,
   "id": "b7530798",
   "metadata": {},
   "outputs": [],
   "source": [
    "file = open('data.txt','x')\n",
    "file.close()"
   ]
  },
  {
   "cell_type": "code",
   "execution_count": 9,
   "id": "92b1f05c",
   "metadata": {},
   "outputs": [
    {
     "name": "stdout",
     "output_type": "stream",
     "text": [
      "<class 'str'>\n",
      "Hello World\n",
      "Hello Nepal\n",
      "Hello Kathmandu\n",
      "Hello Shankhamul\n"
     ]
    }
   ],
   "source": [
    "file = open('data.txt','r')\n",
    "x = file.read()\n",
    "print(type(x))\n",
    "print(x)\n",
    "file.close()"
   ]
  },
  {
   "cell_type": "code",
   "execution_count": 12,
   "id": "7be700f0",
   "metadata": {
    "scrolled": true
   },
   "outputs": [
    {
     "data": {
      "text/plain": [
       "['Hello World', 'Hello Nepal', 'Hello Kathmandu', 'Hello Shankhamul']"
      ]
     },
     "execution_count": 12,
     "metadata": {},
     "output_type": "execute_result"
    }
   ],
   "source": [
    "x.split('\\n')\n"
   ]
  },
  {
   "cell_type": "code",
   "execution_count": 14,
   "id": "867e230a",
   "metadata": {},
   "outputs": [],
   "source": [
    "file = open ('data.txt','w')\n",
    "file.write('Hello World')\n",
    "file.close()"
   ]
  },
  {
   "cell_type": "code",
   "execution_count": 22,
   "id": "7ef2bed5",
   "metadata": {},
   "outputs": [
    {
     "name": "stdout",
     "output_type": "stream",
     "text": [
      "enter number of entries: \n",
      "2\n",
      "enter your product name: bread\n",
      "enter product's price: 45\n",
      "enter number of product: 4\n",
      "enter your product name: milk\n",
      "enter product's price: 90\n",
      "enter number of product: 2\n",
      " name = bread price = 45.0 quantity = 4 total = 180.0 \n",
      " name = milk price = 90.0 quantity = 2 total = 180.0 \n",
      "\n",
      "Total price:  360.0\n"
     ]
    }
   ],
   "source": [
    "info = \"\"\n",
    "grand_total = 0\n",
    "n = int(input(\"enter number of entries: \" \"\\n\"))\n",
    "\n",
    "for i in range(n):\n",
    "    name = input(\"enter your product name: \")\n",
    "    price = float(input(\"enter product's price: \"))\n",
    "    quantity = int(input(\"enter number of product: \"))\n",
    "    total = price * quantity\n",
    "    grand_total = grand_total + total\n",
    "    x = f\" name = {name} price = {price} quantity = {quantity} total = {total} \\n\"\n",
    "    info = info + x\n",
    "print(info)\n",
    "print(\"Total price: \",grand_total)\n",
    "\n",
    "file = open('bill.txt', 'w')\n",
    "file.write(info)\n",
    "file.close()"
   ]
  },
  {
   "cell_type": "code",
   "execution_count": null,
   "id": "a07270d4",
   "metadata": {},
   "outputs": [],
   "source": [
    "info = \"\"\n",
    "file = open('billing.txt', 'a')\n",
    "n = int(input(\"enter number of entries: \" \"\\n\"))\n",
    "for i in range(n):\n",
    "    name = input(\"enter your product name: \")\n",
    "    price = float(input(\"enter product's price: \"))\n",
    "    quantity = int(input(\"enter number of product: \"))\n",
    "    total = price * quantity\n",
    "    x = f\" name = {name} price = {price} quantity = {quantity} total = {total} \\n\"\n",
    "    file.write(info)\n",
    "\n",
    "file.close()"
   ]
  },
  {
   "cell_type": "code",
   "execution_count": 29,
   "id": "138d0ed2",
   "metadata": {},
   "outputs": [
    {
     "data": {
      "text/plain": [
       "['']"
      ]
     },
     "execution_count": 29,
     "metadata": {},
     "output_type": "execute_result"
    }
   ],
   "source": [
    "file = open('billing.txt', 'r')\n",
    "x = file.read()\n",
    "y = x.split('\\n')\n",
    "y"
   ]
  },
  {
   "cell_type": "code",
   "execution_count": 3,
   "id": "02ad51c3",
   "metadata": {},
   "outputs": [
    {
     "name": "stdout",
     "output_type": "stream",
     "text": [
      "enter n = 1\n",
      "enter name: kk\n",
      "enter price: 44\n",
      "enter quantity: 5\n",
      "kk,44,5,220\n",
      "\n"
     ]
    },
    {
     "data": {
      "text/plain": [
       "['kk,44,5,220', '']"
      ]
     },
     "execution_count": 3,
     "metadata": {},
     "output_type": "execute_result"
    }
   ],
   "source": [
    "s = \"\"\n",
    "n = int(input(\"enter n = \"))\n",
    "for i in range(n):\n",
    "    product = input(\"enter name: \")\n",
    "    price = int(input(\"enter price: \"))\n",
    "    quantity = int(input(\"enter quantity: \"))\n",
    "    total = price * quantity\n",
    "    info = f\"{product},{price},{quantity},{total}\\n\"\n",
    "    s = s + info\n",
    "print(s)\n",
    "\n",
    "file = open('bill.csv','w')\n",
    "file.write(s)\n",
    "file.close()\n"
   ]
  },
  {
   "cell_type": "code",
   "execution_count": null,
   "id": "f8080390",
   "metadata": {},
   "outputs": [],
   "source": []
  }
 ],
 "metadata": {
  "kernelspec": {
   "display_name": "Python 3 (ipykernel)",
   "language": "python",
   "name": "python3"
  },
  "language_info": {
   "codemirror_mode": {
    "name": "ipython",
    "version": 3
   },
   "file_extension": ".py",
   "mimetype": "text/x-python",
   "name": "python",
   "nbconvert_exporter": "python",
   "pygments_lexer": "ipython3",
   "version": "3.10.9"
  }
 },
 "nbformat": 4,
 "nbformat_minor": 5
}
