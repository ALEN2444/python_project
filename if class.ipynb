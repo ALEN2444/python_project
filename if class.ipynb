{
 "cells": [
  {
   "cell_type": "code",
   "execution_count": 1,
   "id": "f72dafba",
   "metadata": {},
   "outputs": [
    {
     "name": "stdout",
     "output_type": "stream",
     "text": [
      "enter a number: 45\n",
      "it is odd\n"
     ]
    }
   ],
   "source": [
    "n = int(input(\"enter a number: \"))\n",
    "if n % 2 == 0 :\n",
    "    print(\"it is even!\")\n",
    "else:\n",
    "    print(\"it is odd\")"
   ]
  },
  {
   "cell_type": "code",
   "execution_count": 10,
   "id": "242b8a5f",
   "metadata": {},
   "outputs": [
    {
     "name": "stdout",
     "output_type": "stream",
     "text": [
      "enter a number: 0\n",
      "zero\n"
     ]
    }
   ],
   "source": [
    "n = int(input(\"enter a number: \"))\n",
    "if n>0:\n",
    "    print(\"it is positive\")\n",
    "elif n==0:\n",
    "    print(\"zero\")\n",
    "else:\n",
    "    print(\"it is negative\")"
   ]
  },
  {
   "cell_type": "code",
   "execution_count": 9,
   "id": "aaa5b635",
   "metadata": {},
   "outputs": [
    {
     "name": "stdout",
     "output_type": "stream",
     "text": [
      "enter a number: 4\n",
      "enter a number: 4\n",
      "both are equal!\n"
     ]
    }
   ],
   "source": [
    "a = int(input(\"enter a number: \"))\n",
    "b = int(input(\"enter a number: \"))\n",
    "if a>b:\n",
    "    print(\"a is greatest!\")\n",
    "elif b>a:\n",
    "    print(\"b is greatest!\")\n",
    "else:\n",
    "    print(\"both are equal!\")"
   ]
  },
  {
   "cell_type": "code",
   "execution_count": 15,
   "id": "865b58b9",
   "metadata": {},
   "outputs": [
    {
     "name": "stdout",
     "output_type": "stream",
     "text": [
      "enter your name: Bipin Ranabhat\n",
      "enter your marks: 45\n",
      "enter your marks: 45\n",
      "enter your marks: 45\n",
      "enter your marks: 45\n",
      "enter your marks: 45\n",
      "Name=  Bipin Ranabhat\n",
      "Total=  225\n",
      "percentage=  45.0\n",
      "Grade=  C\n"
     ]
    }
   ],
   "source": [
    "name = input(\"enter your name: \")\n",
    "physics = int(input(\"enter your physics marks: \"))\n",
    "maths = int(input(\"enter your maths marks: \"))\n",
    "chemistry = int(input(\"enter your chemistry marks: \"))\n",
    "biology = int(input(\"enter your biology marks: \"))\n",
    "english = int(input(\"enter your english marks: \"))\n",
    "\n",
    "total = physics + maths + chemistry + biology + english \n",
    "\n",
    "per = total/5\n",
    "\n",
    "if per>=80:\n",
    "    grade = \"A\"\n",
    "elif per>=60:\n",
    "    grade = \"B\"\n",
    "elif per>=45:\n",
    "    grade = \"C\"\n",
    "else:\n",
    "    grade = \"Fail\"\n",
    "print(\"Name= \", name)\n",
    "print(\"Total= \", total)\n",
    "print(\"percentage= \", per)\n",
    "print(\"Grade= \", grade)"
   ]
  },
  {
   "cell_type": "code",
   "execution_count": 29,
   "id": "ed830414",
   "metadata": {},
   "outputs": [
    {
     "name": "stdout",
     "output_type": "stream",
     "text": [
      "enter a = 4\n",
      "enter b = 2\n",
      "enter +  -  *  / = /\n",
      "2\n"
     ]
    }
   ],
   "source": [
    "a = int(input(\"enter a = \"))\n",
    "b = int(input(\"enter b = \"))\n",
    "o = input(\"enter +  -  *  / = \")\n",
    "if o == \"+\":\n",
    "    print(a+b)\n",
    "elif o == \"-\":\n",
    "    print(a-b)\n",
    "elif o == \"*\":\n",
    "    print(a*b)\n",
    "elif o == \"/\":\n",
    "    print (int(a/b))\n",
    "else:\n",
    "    print(\"invalid operation\")"
   ]
  },
  {
   "cell_type": "code",
   "execution_count": 31,
   "id": "0b62c969",
   "metadata": {},
   "outputs": [
    {
     "name": "stdout",
     "output_type": "stream",
     "text": [
      "True\n",
      "False\n"
     ]
    }
   ],
   "source": [
    "print( True and True)\n",
    "print( True and False)\n",
    "\n",
    "\n",
    "\n",
    "\n",
    "\n",
    "\n"
   ]
  },
  {
   "cell_type": "code",
   "execution_count": 32,
   "id": "aa961036",
   "metadata": {},
   "outputs": [
    {
     "name": "stdout",
     "output_type": "stream",
     "text": [
      "True\n",
      "True\n",
      "False\n"
     ]
    }
   ],
   "source": [
    "print( True or True)\n",
    "print( True or False)\n",
    "print( False or False)"
   ]
  },
  {
   "cell_type": "code",
   "execution_count": null,
   "id": "fdc83513",
   "metadata": {},
   "outputs": [],
   "source": []
  }
 ],
 "metadata": {
  "kernelspec": {
   "display_name": "Python 3 (ipykernel)",
   "language": "python",
   "name": "python3"
  },
  "language_info": {
   "codemirror_mode": {
    "name": "ipython",
    "version": 3
   },
   "file_extension": ".py",
   "mimetype": "text/x-python",
   "name": "python",
   "nbconvert_exporter": "python",
   "pygments_lexer": "ipython3",
   "version": "3.10.9"
  }
 },
 "nbformat": 4,
 "nbformat_minor": 5
}
