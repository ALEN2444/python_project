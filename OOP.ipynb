{
 "cells": [
  {
   "cell_type": "code",
   "execution_count": 1,
   "id": "c8cda152",
   "metadata": {},
   "outputs": [],
   "source": [
    "#_init_() method\n"
   ]
  },
  {
   "cell_type": "code",
   "execution_count": 2,
   "id": "63ea2db8",
   "metadata": {},
   "outputs": [
    {
     "name": "stdout",
     "output_type": "stream",
     "text": [
      "30\n"
     ]
    }
   ],
   "source": [
    "class Cal:\n",
    "    def area(self,l,b):\n",
    "        a = l*b\n",
    "        print(a)\n",
    "        \n",
    "obj = Cal()\n",
    "obj.area(10,3)"
   ]
  },
  {
   "cell_type": "code",
   "execution_count": 15,
   "id": "685b7a10",
   "metadata": {},
   "outputs": [
    {
     "name": "stdout",
     "output_type": "stream",
     "text": [
      "50\n"
     ]
    }
   ],
   "source": [
    "class Cal:\n",
    "    def __init__(self,l,b):\n",
    "        self.l = l               #attribute\n",
    "        self.b = b               #attribute\n",
    "         \n",
    "    def area(self):\n",
    "        a = self.l*self.b\n",
    "        print(a)\n",
    "        \n",
    "obj = Cal(10,5)\n",
    "obj.area()"
   ]
  },
  {
   "cell_type": "code",
   "execution_count": 16,
   "id": "294db5e9",
   "metadata": {},
   "outputs": [
    {
     "name": "stdout",
     "output_type": "stream",
     "text": [
      "50\n",
      "100\n",
      "10 5 2\n"
     ]
    }
   ],
   "source": [
    "class Cal:\n",
    "    def __init__(self,l,b,h):\n",
    "        self.l = l\n",
    "        self.b = b\n",
    "        self.h = h\n",
    "        \n",
    "    def area(self):\n",
    "        a = self.l*self.b\n",
    "        print(a)\n",
    "    \n",
    "    def volume(self):\n",
    "        v =self.l*self.b*self.h\n",
    "        print(v)\n",
    "        \n",
    "obj = Cal(10,5,2)\n",
    "obj.area()\n",
    "obj.volume()\n",
    "print(obj.l,obj.b,obj.h)"
   ]
  },
  {
   "cell_type": "code",
   "execution_count": 30,
   "id": "83bf0804",
   "metadata": {},
   "outputs": [
    {
     "name": "stdout",
     "output_type": "stream",
     "text": [
      "enter your name: Bipin Ranabhat\n",
      "enter your age: 45\n",
      "enter your address: kk\n",
      "kk\n",
      "kk\n"
     ]
    }
   ],
   "source": [
    "class Info:\n",
    "    def __init__(self):\n",
    "        self.name = input(\"enter your name: \")\n",
    "        self.age = int(input(\"enter your age: \"))\n",
    "        self.address = input(\"enter your address: \")\n",
    "    def __str__(self):\n",
    "        return self.name\n",
    "    \n",
    "obj = Info()\n",
    "print(obj)\n",
    "print(obj)\n",
    "\n"
   ]
  },
  {
   "cell_type": "code",
   "execution_count": 31,
   "id": "8d8f1bfb",
   "metadata": {},
   "outputs": [
    {
     "name": "stdout",
     "output_type": "stream",
     "text": [
      "enter your name: Bipin Ranabhat\n",
      "enter your age: 11\n",
      "enter your address: kksa\n",
      "Hello world my name is BIPIN RANABHAT.I'm 11 years old.I live in kksa\n"
     ]
    }
   ],
   "source": [
    "class Info:\n",
    "    def __init__(self,name,age,address):\n",
    "        self.name = name.upper()\n",
    "        self.age = age\n",
    "        self.address = address\n",
    "\n",
    "\n",
    "    def info(self):\n",
    "        return f\"Hello world my name is {self.name}.I'm {self.age} years old.I live in {self.address}\"\n",
    "\n",
    "    \n",
    "name = input(\"enter your name: \")\n",
    "age = int(input(\"enter your age: \"))\n",
    "address = input(\"enter your address: \")    \n",
    "\n",
    "obj = Info(name,age,address)\n",
    "print(obj.info())"
   ]
  },
  {
   "cell_type": "code",
   "execution_count": null,
   "id": "beac3e0b",
   "metadata": {},
   "outputs": [],
   "source": []
  }
 ],
 "metadata": {
  "kernelspec": {
   "display_name": "Python 3 (ipykernel)",
   "language": "python",
   "name": "python3"
  },
  "language_info": {
   "codemirror_mode": {
    "name": "ipython",
    "version": 3
   },
   "file_extension": ".py",
   "mimetype": "text/x-python",
   "name": "python",
   "nbconvert_exporter": "python",
   "pygments_lexer": "ipython3",
   "version": "3.10.9"
  }
 },
 "nbformat": 4,
 "nbformat_minor": 5
}
