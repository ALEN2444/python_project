{
 "cells": [
  {
   "cell_type": "code",
   "execution_count": 1,
   "id": "5b137346",
   "metadata": {},
   "outputs": [],
   "source": [
    "# public members\n",
    "# private members\n",
    "# protected members\n"
   ]
  },
  {
   "cell_type": "code",
   "execution_count": 6,
   "id": "64a26540",
   "metadata": {},
   "outputs": [
    {
     "name": "stdout",
     "output_type": "stream",
     "text": [
      "Ram\n",
      "45\n",
      "kathmandu\n"
     ]
    }
   ],
   "source": [
    "#public members\n",
    "class Info:\n",
    "    def __init__(self):\n",
    "        self.name = \"Ram\"\n",
    "        self.age = 45\n",
    "        self.add = \"kathmandu\"\n",
    "        \n",
    "obj = Info()\n",
    "print(obj.name)\n",
    "print(obj.age)\n",
    "print(obj.add)"
   ]
  },
  {
   "cell_type": "code",
   "execution_count": 8,
   "id": "a6aa3b95",
   "metadata": {},
   "outputs": [
    {
     "name": "stdout",
     "output_type": "stream",
     "text": [
      "Ram\n",
      "45\n",
      "kathmandu\n"
     ]
    }
   ],
   "source": [
    "#protected members\n",
    "class Info:\n",
    "    def __init__(self):\n",
    "        self._name = \"Ram\"\n",
    "        self._age = 45\n",
    "        self._add = \"kathmandu\"\n",
    "        \n",
    "obj = Info()\n",
    "print(obj._name)\n",
    "print(obj._age)\n",
    "print(obj._add)"
   ]
  },
  {
   "cell_type": "code",
   "execution_count": 15,
   "id": "f7af66d9",
   "metadata": {},
   "outputs": [
    {
     "name": "stdout",
     "output_type": "stream",
     "text": [
      "Ram\n",
      "45\n",
      "kathmandu\n"
     ]
    }
   ],
   "source": [
    "#private members\n",
    "class Info:\n",
    "    def __init__(self):\n",
    "        self.__name = \"Ram\"\n",
    "        self.__age = 45\n",
    "        self.__add = \"kathmandu\"\n",
    "        \n",
    "        \n",
    "obj = Info()\n",
    "print(obj._Info__name)\n",
    "print(obj._Info__age)\n",
    "print(obj._Info__add)"
   ]
  },
  {
   "cell_type": "code",
   "execution_count": 14,
   "id": "009f2ceb",
   "metadata": {},
   "outputs": [
    {
     "name": "stdout",
     "output_type": "stream",
     "text": [
      "enter your name: Bipin Ranabhat\n",
      "enter your age: 11\n",
      "enter your address: afaf\n",
      "Hello world I'm Bipin Ranabhat. I'm 11 year old. I live in afaf\n",
      "None\n"
     ]
    }
   ],
   "source": [
    "class Data:\n",
    "    def __init__(self):\n",
    "        self.name = input(\"enter your name: \")\n",
    "        self._age = int(input(\"enter your age: \"))\n",
    "        self.__address = input(\"enter your address: \")\n",
    "        \n",
    "    def data(self):\n",
    "        return f\"Hello world I'm {self.name}. I'm {self._age} year old. I live in {self.__address}\"\n",
    "        \n",
    "        \n",
    "class Info(Data):\n",
    "    def info(self):\n",
    "        print(Data.data(self))\n",
    "    \n",
    "obj = Info()\n",
    "print(obj.info())\n"
   ]
  },
  {
   "cell_type": "code",
   "execution_count": null,
   "id": "f12b8377",
   "metadata": {},
   "outputs": [],
   "source": []
  }
 ],
 "metadata": {
  "kernelspec": {
   "display_name": "Python 3 (ipykernel)",
   "language": "python",
   "name": "python3"
  },
  "language_info": {
   "codemirror_mode": {
    "name": "ipython",
    "version": 3
   },
   "file_extension": ".py",
   "mimetype": "text/x-python",
   "name": "python",
   "nbconvert_exporter": "python",
   "pygments_lexer": "ipython3",
   "version": "3.10.9"
  }
 },
 "nbformat": 4,
 "nbformat_minor": 5
}
