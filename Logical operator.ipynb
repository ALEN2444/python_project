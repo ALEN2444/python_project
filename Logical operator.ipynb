{
 "cells": [
  {
   "cell_type": "code",
   "execution_count": 1,
   "id": "afc072aa",
   "metadata": {},
   "outputs": [
    {
     "name": "stdout",
     "output_type": "stream",
     "text": [
      "enter a = 45\n",
      "enter b = 0\n",
      "enter +  -  *  / = /\n",
      "The value of b can not be zero\n"
     ]
    }
   ],
   "source": [
    "a = int(input(\"enter a = \"))\n",
    "b = int(input(\"enter b = \"))\n",
    "o = input(\"enter +  -  *  / = \")\n",
    "if o == \"+\":\n",
    "    print(a+b)\n",
    "elif o == \"-\":\n",
    "    print(a-b)\n",
    "elif o == \"*\":\n",
    "    print(a*b)\n",
    "elif o == \"/\" and b !=0:\n",
    "    print (int(a/b))\n",
    "elif o == \"/\" and b ==0:\n",
    "    print(\"The value of b can not be zero\")\n",
    "\n",
    "else:\n",
    "    print(\"invalid operation\")"
   ]
  },
  {
   "cell_type": "code",
   "execution_count": 4,
   "id": "a4f243ae",
   "metadata": {},
   "outputs": [
    {
     "name": "stdout",
     "output_type": "stream",
     "text": [
      "enter a number = -45\n",
      "it is negative and odd\n"
     ]
    }
   ],
   "source": [
    "a = int(input(\"enter a number = \"))\n",
    "if a>0 and a%2==0:\n",
    "    print(\"it is positive and even!\")\n",
    "else:\n",
    "    print(\"it is negative and odd\")"
   ]
  },
  {
   "cell_type": "code",
   "execution_count": 5,
   "id": "e6d7e2ca",
   "metadata": {},
   "outputs": [
    {
     "name": "stdout",
     "output_type": "stream",
     "text": [
      "Enter percentage: 80\n",
      "A\n"
     ]
    }
   ],
   "source": [
    "per = float(input(\"Enter percentage: \"))\n",
    "if per>80 or per == 80:\n",
    "    grade = \"A\"\n",
    "elif per>60 or per == 60:\n",
    "    grade = \"B\"\n",
    "elif per>45 or per == 45:\n",
    "    grade = \"C\"\n",
    "else:\n",
    "    grade = \"Fail\"\n",
    "print(grade)"
   ]
  },
  {
   "cell_type": "code",
   "execution_count": null,
   "id": "e15c7304",
   "metadata": {},
   "outputs": [],
   "source": [
    "#nested if condition\n",
    "\n",
    "if<condition>:\n",
    "    if<condition>:\n",
    "        <operation>\n",
    "    else:\n",
    "        <operation>\n",
    "        \n",
    "else:\n",
    "    if<condition>:\n",
    "        <operation>\n",
    "    else:\n",
    "        <operation>"
   ]
  },
  {
   "cell_type": "code",
   "execution_count": null,
   "id": "a53e7f11",
   "metadata": {},
   "outputs": [],
   "source": []
  },
  {
   "cell_type": "code",
   "execution_count": null,
   "id": "97edeef2",
   "metadata": {},
   "outputs": [],
   "source": []
  },
  {
   "cell_type": "code",
   "execution_count": null,
   "id": "46c7faa0",
   "metadata": {},
   "outputs": [],
   "source": []
  },
  {
   "cell_type": "code",
   "execution_count": null,
   "id": "7de49bca",
   "metadata": {},
   "outputs": [],
   "source": []
  },
  {
   "cell_type": "code",
   "execution_count": null,
   "id": "a9b2028e",
   "metadata": {},
   "outputs": [],
   "source": []
  },
  {
   "cell_type": "code",
   "execution_count": null,
   "id": "a52b5d72",
   "metadata": {},
   "outputs": [],
   "source": []
  }
 ],
 "metadata": {
  "kernelspec": {
   "display_name": "Python 3 (ipykernel)",
   "language": "python",
   "name": "python3"
  },
  "language_info": {
   "codemirror_mode": {
    "name": "ipython",
    "version": 3
   },
   "file_extension": ".py",
   "mimetype": "text/x-python",
   "name": "python",
   "nbconvert_exporter": "python",
   "pygments_lexer": "ipython3",
   "version": "3.10.9"
  }
 },
 "nbformat": 4,
 "nbformat_minor": 5
}
