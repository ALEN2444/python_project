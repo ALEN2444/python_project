{
 "cells": [
  {
   "cell_type": "code",
   "execution_count": 5,
   "id": "9975d2b4",
   "metadata": {},
   "outputs": [
    {
     "name": "stdout",
     "output_type": "stream",
     "text": [
      "enter your name: Bipin Ranabhat\n",
      "enter your age: 20\n",
      "enter your address: kathmandu\n",
      "Hello world I'm Bipin Ranabhat. I'm 20 year old. I live in kathmandu\n"
     ]
    }
   ],
   "source": [
    "class Data:\n",
    "    def __init__(self):\n",
    "        self.name = input(\"enter your name: \")\n",
    "        self.age = int(input(\"enter your age: \"))\n",
    "        self.address = input(\"enter your address: \")\n",
    "        \n",
    "class Info(Data):\n",
    "    def info(self):\n",
    "        return f\"Hello world I'm {self.name}. I'm {self.age} year old. I live in {self.address}\"\n",
    "    \n",
    "    \n",
    "obj = Info()\n",
    "print(obj.info())"
   ]
  },
  {
   "cell_type": "code",
   "execution_count": 7,
   "id": "47d9dfd0",
   "metadata": {},
   "outputs": [
    {
     "name": "stdout",
     "output_type": "stream",
     "text": [
      "enter your name: Bipin Ranabhat\n",
      "enter your age: 11\n",
      "enter your address: asfagsgs\n",
      "Bipin Ranabhat 11 asfagsgs\n"
     ]
    },
    {
     "data": {
      "text/plain": [
       "\"Hello world I'm Bipin Ranabhat. I'm 11 year old. I live in asfagsgs\""
      ]
     },
     "execution_count": 7,
     "metadata": {},
     "output_type": "execute_result"
    }
   ],
   "source": [
    "class Data:\n",
    "    def __init__(self,name,age,address):\n",
    "        self.name = name\n",
    "        self.age = age\n",
    "        self.address = address\n",
    "        \n",
    "    def data(self):\n",
    "        print(self.name,self.age,self.address)\n",
    "class Info(Data):\n",
    "    def info(self):\n",
    "        return f\"Hello world I'm {self.name}. I'm {self.age} year old. I live in {self.address}\"\n",
    "\n",
    "name = input(\"enter your name: \")\n",
    "age = int(input(\"enter your age: \"))\n",
    "address = input(\"enter your address: \")\n",
    "    \n",
    "obj = Info(name,age,address)\n",
    "obj.data()\n",
    "obj.info()\n",
    "\n"
   ]
  },
  {
   "cell_type": "code",
   "execution_count": 17,
   "id": "116683b2",
   "metadata": {},
   "outputs": [
    {
     "name": "stdout",
     "output_type": "stream",
     "text": [
      "enter your name: Bipin Ranabhat\n",
      "enter your age: 44\n",
      "enter your address: adfaf\n",
      "Hello world I'm Bipin Ranabhat. I'm 44 year old. I live in adfaf\n"
     ]
    }
   ],
   "source": [
    "class Data:\n",
    "    def __init__(self,address):\n",
    "        self.address = address\n",
    "        \n",
    "    def data(self):\n",
    "        print(self.address)\n",
    "        \n",
    "        \n",
    "class Info(Data):\n",
    "    def __init__(self,name,age,address):\n",
    "        self.name = name\n",
    "        self.age = age\n",
    "        Data.__init__(self,address)\n",
    "        \n",
    "    def info(self):\n",
    "        return f\"Hello world I'm {self.name}. I'm {self.age} year old. I live in {self.address}\"\n",
    "\n",
    "name = input(\"enter your name: \")\n",
    "age = int(input(\"enter your age: \"))\n",
    "address = input(\"enter your address: \")\n",
    "    \n",
    "obj = Info(name,age,address)\n",
    "print(obj.info())"
   ]
  },
  {
   "cell_type": "code",
   "execution_count": 18,
   "id": "29b1e11a",
   "metadata": {},
   "outputs": [],
   "source": [
    "# multilevel\n",
    "class A:\n",
    "    pass\n",
    "class B(A):\n",
    "    pass\n",
    "class C(B):\n",
    "    pass\n",
    "\n",
    "obj = C()"
   ]
  },
  {
   "cell_type": "code",
   "execution_count": 19,
   "id": "86c66724",
   "metadata": {},
   "outputs": [],
   "source": [
    "# Derived class "
   ]
  },
  {
   "cell_type": "code",
   "execution_count": 33,
   "id": "d61057dd",
   "metadata": {},
   "outputs": [
    {
     "name": "stdout",
     "output_type": "stream",
     "text": [
      "enter your name: Bipin Ranabhat\n",
      "enter your age: 20\n",
      "enter your address: manhanttan\n",
      "Hello world I'm Bipin Ranabhat. I'm 20 year old. I live in manhanttan\n"
     ]
    }
   ],
   "source": [
    "class Address:\n",
    "    def __init__(self,address):\n",
    "        self.address = address\n",
    "  \n",
    "class Data(Address):\n",
    "    def __init__(self,age,address):\n",
    "        self.age = age\n",
    "        Address.__init__(self,address)\n",
    "    def data(self):\n",
    "        return(self.age)\n",
    "        \n",
    "        \n",
    "class Info(Data):\n",
    "    def __init__(self,name,age,address):\n",
    "        self.name = name\n",
    "        Data.__init__(self,age,address)\n",
    "        \n",
    "    def info(self):\n",
    "        return f\"Hello world I'm {self.name}. I'm {self.age} year old. I live in {self.address}\"\n",
    "\n",
    "name = input(\"enter your name: \")\n",
    "age = int(input(\"enter your age: \"))\n",
    "address = input(\"enter your address: \")\n",
    "    \n",
    "obj = Info(name,age,address)\n",
    "print(obj.info())\n"
   ]
  },
  {
   "cell_type": "code",
   "execution_count": 30,
   "id": "9c920f35",
   "metadata": {},
   "outputs": [
    {
     "name": "stdout",
     "output_type": "stream",
     "text": [
      "enter your name: Bipin Ranabhat\n",
      "enter your address: kathmandu\n",
      "enter your age: 45\n",
      "Hello world I'm Bipin Ranabhat. I'm 45 year old. I live in kathmandu\n"
     ]
    }
   ],
   "source": [
    "class Address:\n",
    "    def __init__(self,address):\n",
    "        self.address = input(\"enter your address: \")\n",
    "  \n",
    "class Age:\n",
    "    def __init__(self,age):\n",
    "        self.age = int(input(\"enter your age: \"))\n",
    "        \n",
    "        \n",
    "        \n",
    "class Info(Address,Age):\n",
    "    def __init__(self,name):\n",
    "        self.name = name\n",
    "        Address.__init__(self,address)\n",
    "        Age.__init__(self,age)\n",
    "        \n",
    "    def info(self):\n",
    "        return f\"Hello world I'm {self.name}. I'm {self.age} year old. I live in {self.address}\"\n",
    "\n",
    "name = input(\"enter your name: \")\n",
    "    \n",
    "obj = Info(name)\n",
    "print(obj.info())\n"
   ]
  },
  {
   "cell_type": "code",
   "execution_count": null,
   "id": "8a0dce65",
   "metadata": {},
   "outputs": [],
   "source": []
  }
 ],
 "metadata": {
  "kernelspec": {
   "display_name": "Python 3 (ipykernel)",
   "language": "python",
   "name": "python3"
  },
  "language_info": {
   "codemirror_mode": {
    "name": "ipython",
    "version": 3
   },
   "file_extension": ".py",
   "mimetype": "text/x-python",
   "name": "python",
   "nbconvert_exporter": "python",
   "pygments_lexer": "ipython3",
   "version": "3.10.9"
  }
 },
 "nbformat": 4,
 "nbformat_minor": 5
}
