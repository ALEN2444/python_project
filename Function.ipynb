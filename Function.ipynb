{
 "cells": [
  {
   "cell_type": "code",
   "execution_count": 1,
   "id": "f6f708f7",
   "metadata": {},
   "outputs": [],
   "source": [
    "# pre define \n",
    "# print() type() int() float() str() bool()"
   ]
  },
  {
   "cell_type": "code",
   "execution_count": 2,
   "id": "036cad79",
   "metadata": {},
   "outputs": [],
   "source": [
    "# user defined function\n",
    "\n",
    "# def <function_name>():    defining \n",
    "#     <operation>\n",
    "    \n",
    "# <function_name>()         calling"
   ]
  },
  {
   "cell_type": "code",
   "execution_count": 3,
   "id": "0954f643",
   "metadata": {},
   "outputs": [
    {
     "name": "stdout",
     "output_type": "stream",
     "text": [
      "hello\n"
     ]
    }
   ],
   "source": [
    "def hello():\n",
    "    print(\"hello\")\n",
    "    \n",
    "hello()"
   ]
  },
  {
   "cell_type": "code",
   "execution_count": 7,
   "id": "5d544282",
   "metadata": {},
   "outputs": [
    {
     "name": "stdout",
     "output_type": "stream",
     "text": [
      "Hi my name is Bipin ranabhat\n"
     ]
    }
   ],
   "source": [
    "def helloworld(first_name,last_name):\n",
    "    print(f\"Hi my name is {first_name}{last_name}\")\n",
    "\n",
    "helloworld(\"Bipin \", \"ranabhat\")\n",
    "    "
   ]
  },
  {
   "cell_type": "code",
   "execution_count": 16,
   "id": "9e041d61",
   "metadata": {},
   "outputs": [
    {
     "name": "stdout",
     "output_type": "stream",
     "text": [
      "enter value of length: 24\n",
      "enter value of breadth: 1\n",
      "enter value of height: 1\n",
      "The volume of the room is : 24 cm*cm*cm\n",
      "3.14\n"
     ]
    }
   ],
   "source": [
    "pie = 3.14                                         # global variable\n",
    "def calc():\n",
    "    l = int(input(\"enter value of length: \"))      #local variable \n",
    "    b = int(input(\"enter value of breadth: \"))\n",
    "    h = int(input(\"enter value of height: \"))\n",
    "    \n",
    "    v = l*b*h\n",
    "    print(\"The volume of the room is :\",v,\"cm*cm*cm\")\n",
    "    \n",
    "calc()\n",
    "print(pie)"
   ]
  },
  {
   "cell_type": "code",
   "execution_count": 18,
   "id": "9fab4067",
   "metadata": {},
   "outputs": [
    {
     "name": "stdout",
     "output_type": "stream",
     "text": [
      "enter value of length: 5\n",
      "enter value of breadth: 4\n",
      "enter value of height: 2\n",
      "40\n",
      "5 4 2\n"
     ]
    }
   ],
   "source": [
    "# function without argument and no return type\n",
    "def calc():\n",
    "    global l,b,h\n",
    "    l = int(input(\"enter value of length: \"))      #local variable \n",
    "    b = int(input(\"enter value of breadth: \"))\n",
    "    h = int(input(\"enter value of height: \"))\n",
    "    \n",
    "    v = l*b*h\n",
    "    print(v)\n",
    "calc()\n",
    "print(l,b,h)"
   ]
  },
  {
   "cell_type": "code",
   "execution_count": 19,
   "id": "f6edd62b",
   "metadata": {},
   "outputs": [],
   "source": [
    "# type of function on the basis of arguments and return type\n",
    "# function without argument and no return type\n",
    "# function with arguments and no return type\n",
    "# function without argument and return type\n",
    "# function with argument and return type \n"
   ]
  },
  {
   "cell_type": "code",
   "execution_count": 20,
   "id": "011573f3",
   "metadata": {},
   "outputs": [
    {
     "name": "stdout",
     "output_type": "stream",
     "text": [
      "Hello world\n"
     ]
    }
   ],
   "source": [
    "def hello(x):           # x is parameter\n",
    "    print(x)\n",
    "\n",
    "hello(\"Hello world\")    # Hello world is Argument"
   ]
  },
  {
   "cell_type": "code",
   "execution_count": 24,
   "id": "9dc66592",
   "metadata": {},
   "outputs": [
    {
     "name": "stdout",
     "output_type": "stream",
     "text": [
      "enter value of length: 5\n",
      "enter value of breadth: 6\n",
      "enter value of height: 4\n",
      "120\n"
     ]
    }
   ],
   "source": [
    "# function with arguments and no return type\n",
    "\n",
    "def calc(x,y,z):\n",
    "    v = x*y*z\n",
    "    print(v)\n",
    "    \n",
    "l = int(input(\"enter value of length: \"))      #local variable \n",
    "b = int(input(\"enter value of breadth: \"))\n",
    "h = int(input(\"enter value of height: \"))\n",
    "    \n",
    "calc(l,b,h)\n"
   ]
  },
  {
   "cell_type": "code",
   "execution_count": 28,
   "id": "706cb789",
   "metadata": {},
   "outputs": [
    {
     "name": "stdout",
     "output_type": "stream",
     "text": [
      "C+\n",
      "Java\n",
      "python\n",
      "c#\n",
      "go\n"
     ]
    }
   ],
   "source": [
    "def language(lan = \"Python\"):\n",
    "    print(lan)\n",
    "    \n",
    "language(\"C+\")\n",
    "language(\"Java\")\n",
    "language(\"python\")\n",
    "language(\"c#\")\n",
    "language(\"go\")"
   ]
  },
  {
   "cell_type": "code",
   "execution_count": 29,
   "id": "cae06b77",
   "metadata": {},
   "outputs": [
    {
     "name": "stdout",
     "output_type": "stream",
     "text": [
      "enter a = 45\n",
      "enter b = 20\n",
      "enter +,-,*,/*\n",
      "900\n"
     ]
    }
   ],
   "source": [
    "def calc(a,b,o):\n",
    "    if o == \"+\":\n",
    "        print(a+b)\n",
    "    elif o == \"-\":\n",
    "        print(a-b)\n",
    "    elif o == \"*\":\n",
    "        print(a*b)\n",
    "    elif o == \"/\":\n",
    "        print(a/b)\n",
    "    else:\n",
    "        print(\"Invalid\")\n",
    "        \n",
    "a = int(input(\"enter a = \"))\n",
    "b = int(input(\"enter b = \"))\n",
    "o = input(\"enter +,-,*,/\")\n",
    "\n",
    "calc(a,b,o)\n",
    "\n"
   ]
  },
  {
   "cell_type": "code",
   "execution_count": 30,
   "id": "bc8f13af",
   "metadata": {},
   "outputs": [
    {
     "name": "stdout",
     "output_type": "stream",
     "text": [
      "Hello world\n"
     ]
    }
   ],
   "source": [
    "# return type function\n",
    "def hello():\n",
    "    return \"Hello world\"\n",
    "\n",
    "print(hello())\n"
   ]
  },
  {
   "cell_type": "code",
   "execution_count": 32,
   "id": "b24688f2",
   "metadata": {},
   "outputs": [
    {
     "name": "stdout",
     "output_type": "stream",
     "text": [
      "enter l: 45\n",
      "enter b: 2\n",
      "enter h: 6\n",
      "540\n",
      "90\n"
     ]
    }
   ],
   "source": [
    "def CalcArea():\n",
    "    l = int(input(\"enter l: \"))\n",
    "    b = int(input(\"enter b: \"))\n",
    "    a = l*b\n",
    "    return a\n",
    "\n",
    "x = CalcArea()\n",
    "h = int(input(\"enter h: \"))\n",
    "v = x*h\n",
    "print(v)\n",
    "print(x)"
   ]
  },
  {
   "cell_type": "code",
   "execution_count": 37,
   "id": "4cc32c52",
   "metadata": {},
   "outputs": [
    {
     "name": "stdout",
     "output_type": "stream",
     "text": [
      "enter l: 4\n",
      "enter b: 5\n",
      "enter h: 6\n",
      "area = 20\n",
      "volume = 120\n"
     ]
    }
   ],
   "source": [
    "def CalcArea():\n",
    "    l = int(input(\"enter l: \"))\n",
    "    b = int(input(\"enter b: \"))\n",
    "    h = int(input(\"enter h: \"))\n",
    "    a = l*b\n",
    "    v = a*h\n",
    "    return a,v\n",
    "\n",
    "area,volume = CalcArea()\n",
    "print(\"area =\",area)\n",
    "print(\"volume =\",volume)"
   ]
  },
  {
   "cell_type": "code",
   "execution_count": 3,
   "id": "d036c6d4",
   "metadata": {},
   "outputs": [
    {
     "name": "stdout",
     "output_type": "stream",
     "text": [
      "hello world\n",
      "Enter y for more printy\n",
      "hello world\n",
      "Enter y for more printy\n",
      "hello world\n",
      "Enter y for more printy\n",
      "hello world\n",
      "Enter y for more printyy\n"
     ]
    }
   ],
   "source": [
    "# recuesive function -> call itself \n",
    "def hello():\n",
    "    print(\"hello world\")\n",
    "    x = input(\"Enter y for more print\")\n",
    "    if x == 'y':\n",
    "        hello()    \n",
    "\n",
    "hello()"
   ]
  },
  {
   "cell_type": "code",
   "execution_count": 9,
   "id": "7b0c99cd",
   "metadata": {},
   "outputs": [
    {
     "name": "stdout",
     "output_type": "stream",
     "text": [
      "3.141592653589793\n",
      "2.718281828459045\n",
      "6.283185307179586\n"
     ]
    }
   ],
   "source": [
    "# math function\n",
    "import math as m\n",
    "print(m.pi)\n",
    "print(m.e)\n",
    "print(m.tau)\n"
   ]
  },
  {
   "cell_type": "code",
   "execution_count": 10,
   "id": "194945e5",
   "metadata": {},
   "outputs": [
    {
     "data": {
      "text/plain": [
       "120"
      ]
     },
     "execution_count": 10,
     "metadata": {},
     "output_type": "execute_result"
    }
   ],
   "source": [
    "n = 5\n",
    "m.factorial(n)"
   ]
  },
  {
   "cell_type": "code",
   "execution_count": 22,
   "id": "b9e08a11",
   "metadata": {},
   "outputs": [
    {
     "name": "stdout",
     "output_type": "stream",
     "text": [
      "15625.0\n",
      "1.0\n",
      "6.123233995736766e-17\n"
     ]
    }
   ],
   "source": [
    "a = 5\n",
    "b = 6\n",
    "c = m.pow(a,b)\n",
    "print(c)\n",
    "print(m.sin(m.pi/2))\n",
    "print(m.cos(m.pi/2))"
   ]
  },
  {
   "cell_type": "code",
   "execution_count": 24,
   "id": "de9ad98c",
   "metadata": {},
   "outputs": [
    {
     "name": "stdout",
     "output_type": "stream",
     "text": [
      "4\n"
     ]
    }
   ],
   "source": [
    "# lambda function\n",
    "\n",
    "a = lambda x:x**2\n",
    "print(a(2))"
   ]
  },
  {
   "cell_type": "code",
   "execution_count": 25,
   "id": "d1778ca5",
   "metadata": {},
   "outputs": [
    {
     "name": "stdout",
     "output_type": "stream",
     "text": [
      "45\n"
     ]
    }
   ],
   "source": [
    "area = lambda x,y:x*y\n",
    "print(area(5,9))"
   ]
  },
  {
   "cell_type": "code",
   "execution_count": 33,
   "id": "4852adf6",
   "metadata": {},
   "outputs": [
    {
     "name": "stdout",
     "output_type": "stream",
     "text": [
      "[34, 48, 52, 96, 78, 96, 112, 556, 54, 44, 66, 332, 884]\n",
      "[48, 96, 96]\n"
     ]
    }
   ],
   "source": [
    "# Filtering (filter function)\n",
    "a = [34,48,52,96,45,15,63,78,96,45,55,112,556,54,55,44,66,332,225,884]\n",
    "b = list(filter(lambda x:x%2 == 0 , a))\n",
    "c = list(filter(lambda x:x%12 == 0 , a))\n",
    "print(b)\n",
    "print(c)"
   ]
  },
  {
   "cell_type": "code",
   "execution_count": 36,
   "id": "aac2630e",
   "metadata": {},
   "outputs": [
    {
     "name": "stdout",
     "output_type": "stream",
     "text": [
      "['Apple', 'Ball', 'Dog']\n"
     ]
    }
   ],
   "source": [
    "a = [\"Apple\", \"Ball\", \"at\", \"Dog\", \"even\", \"ish\"]\n",
    "c = list(filter(lambda x:x[0].isupper() , a))\n",
    "print(c)"
   ]
  },
  {
   "cell_type": "code",
   "execution_count": 47,
   "id": "83a06eb3",
   "metadata": {},
   "outputs": [
    {
     "name": "stdout",
     "output_type": "stream",
     "text": [
      "(1, 4, 9, 16, 25, 36, 64, 49, 81)\n",
      "9\n",
      "9\n"
     ]
    }
   ],
   "source": [
    "# Mapping\n",
    "a = [1,2,3,4,5,6,8,7,9]\n",
    "b = tuple(map(lambda x:x**2,a))\n",
    "print(b)\n",
    "print(len(a))\n",
    "print(len(b))"
   ]
  },
  {
   "cell_type": "code",
   "execution_count": 49,
   "id": "ec27d528",
   "metadata": {},
   "outputs": [
    {
     "name": "stdout",
     "output_type": "stream",
     "text": [
      "['ram', 'hari', 'shyam', 'rita', 'gita']\n"
     ]
    }
   ],
   "source": [
    "a = [\"RAM\",\"HARI\",\"SHYAM\",\"RITA\",\"GITA\"]\n",
    "b = list(map(lambda x:x.lower(),a))\n",
    "print(b)"
   ]
  },
  {
   "cell_type": "code",
   "execution_count": null,
   "id": "26a92ce4",
   "metadata": {},
   "outputs": [],
   "source": []
  }
 ],
 "metadata": {
  "kernelspec": {
   "display_name": "Python 3 (ipykernel)",
   "language": "python",
   "name": "python3"
  },
  "language_info": {
   "codemirror_mode": {
    "name": "ipython",
    "version": 3
   },
   "file_extension": ".py",
   "mimetype": "text/x-python",
   "name": "python",
   "nbconvert_exporter": "python",
   "pygments_lexer": "ipython3",
   "version": "3.10.9"
  }
 },
 "nbformat": 4,
 "nbformat_minor": 5
}
