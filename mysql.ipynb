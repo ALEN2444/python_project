{
 "cells": [
  {
   "cell_type": "code",
   "execution_count": 1,
   "id": "f36ef50f",
   "metadata": {},
   "outputs": [
    {
     "name": "stdout",
     "output_type": "stream",
     "text": [
      "Requirement already satisfied: mysql-connector in c:\\users\\dell\\anaconda3\\lib\\site-packages (2.2.9)\n",
      "Note: you may need to restart the kernel to use updated packages.\n"
     ]
    }
   ],
   "source": [
    "pip install mysql-connector"
   ]
  },
  {
   "cell_type": "code",
   "execution_count": 7,
   "id": "ee1bb386",
   "metadata": {},
   "outputs": [],
   "source": [
    "import mysql.connector\n",
    "database = mysql.connector.connect(\n",
    "    host=\"localhost\",\n",
    "    user= \"root\",\n",
    "    password=\"\",\n",
    "    database = \"python_class\"\n",
    ")\n",
    "db = database.cursor()\n"
   ]
  },
  {
   "cell_type": "code",
   "execution_count": 12,
   "id": "3ca7aaa5",
   "metadata": {},
   "outputs": [
    {
     "name": "stdout",
     "output_type": "stream",
     "text": [
      "(1, '', 80, 80, 78, 90, 99, 98.0, 'A', 386)\n"
     ]
    }
   ],
   "source": [
    "db.execute(\"SELECT * FROM student\")\n",
    "result =db.fetchall()\n",
    "for x in result:\n",
    "    print(x)"
   ]
  },
  {
   "cell_type": "code",
   "execution_count": 17,
   "id": "27da9481",
   "metadata": {},
   "outputs": [
    {
     "data": {
      "text/plain": [
       "[(1, 80, 386, 98.0)]"
      ]
     },
     "execution_count": 17,
     "metadata": {},
     "output_type": "execute_result"
    }
   ],
   "source": [
    "db.execute(\"SELECT sn,Physics,total,percentage FROM student\")\n",
    "result =db.fetchall()\n",
    "# for x in result:\n",
    "#     print(x)\n",
    "result"
   ]
  },
  {
   "cell_type": "code",
   "execution_count": 23,
   "id": "3bdf62a5",
   "metadata": {},
   "outputs": [
    {
     "data": {
      "text/plain": [
       "[(1, '', 80, 80, 78, 90, 99, 98.0, 'A', 386)]"
      ]
     },
     "execution_count": 23,
     "metadata": {},
     "output_type": "execute_result"
    }
   ],
   "source": [
    "db.execute(\"SELECT * FROM student WHERE Physics = 80\")\n",
    "result =db.fetchall()\n",
    "# for x in result:\n",
    "#     print(x)\n",
    "result"
   ]
  },
  {
   "cell_type": "code",
   "execution_count": 15,
   "id": "db3cbe9d",
   "metadata": {},
   "outputs": [],
   "source": [
    "import mysql.connector\n",
    "database = mysql.connector.connect(\n",
    "    host=\"localhost\",\n",
    "    user= \"root\",\n",
    "    password=\"\",\n",
    "    database = \"python_class\"\n",
    ")\n",
    "db = database.cursor()\n",
    "\n",
    "sql = '''INSERT INTO student (`name`, `Physics`, `Chemistry`, `Biology`, `English`, `Maths`, `percentage`, `Grade`, `Total`) \n",
    "VALUES ('Shyam', '79', '89', '88', '99', '98', '98', 'A', '455');'''\n",
    "db.execute(sql)\n",
    "database.commit()\n"
   ]
  },
  {
   "cell_type": "code",
   "execution_count": 22,
   "id": "9cce2413",
   "metadata": {},
   "outputs": [
    {
     "name": "stdout",
     "output_type": "stream",
     "text": [
      "Enter n= 2\n",
      "enter your name: Bipin Ranabhat\n",
      "enter your physics marks: 98\n",
      "enter your maths marks: 99\n",
      "enter your chemistry marks: 96\n",
      "enter your biology marks: 90\n",
      "enter your english marks: 88\n",
      "enter your name: Bibek Ranabhat\n",
      "enter your physics marks: 99\n",
      "enter your maths marks: 66\n",
      "enter your chemistry marks: 33\n",
      "enter your biology marks: 44\n",
      "enter your english marks: 22\n"
     ]
    }
   ],
   "source": [
    "n = int(input(\"Enter n= \"))\n",
    "for i in range(n):\n",
    "    name = input(\"enter your name: \")\n",
    "    Physics = int(input(\"enter your physics marks: \"))\n",
    "    Maths = int(input(\"enter your maths marks: \"))\n",
    "    Chemistry = int(input(\"enter your chemistry marks: \"))\n",
    "    Biology = int(input(\"enter your biology marks: \"))\n",
    "    English = int(input(\"enter your english marks: \"))\n",
    "\n",
    "    Total = Physics + Maths + Chemistry + Biology + English \n",
    "\n",
    "    percentage = Total/5\n",
    "\n",
    "    if percentage>=80:\n",
    "        Grade = \"A\"\n",
    "    elif percentage>=60:\n",
    "        Grade = \"B\"\n",
    "    elif percentage>=45:\n",
    "        Grade = \"C\"\n",
    "    else:\n",
    "        Grade = \"Fail\"\n",
    "    \n",
    "    \n",
    "sql = f'''INSERT INTO `student` (name, Physics, Chemistry, Biology, English, Maths, percentage, Grade, Total) \n",
    "VALUES ('{name}', {Physics}, {Chemistry}, {Biology}, {English}, {Maths}, {percentage}, '{Grade}', {Total});'''\n",
    "db.execute(sql)\n",
    "database.commit()\n"
   ]
  },
  {
   "cell_type": "code",
   "execution_count": 23,
   "id": "50fb568f",
   "metadata": {},
   "outputs": [
    {
     "name": "stdout",
     "output_type": "stream",
     "text": [
      "Enter Grade: E\n",
      "Enter sn: 1\n"
     ]
    }
   ],
   "source": [
    "Grade = input(\"Enter Grade: \")\n",
    "sn = int(input(\"Enter sn: \"))\n",
    "sql = f\"UPDATE student SET grade = '{Grade}' WHERE sn = {sn}\"\n",
    "db.execute(sql)\n",
    "database.commit()"
   ]
  },
  {
   "cell_type": "code",
   "execution_count": 25,
   "id": "54bb6bd1",
   "metadata": {},
   "outputs": [
    {
     "name": "stdout",
     "output_type": "stream",
     "text": [
      "Enter sn: 1\n"
     ]
    }
   ],
   "source": [
    "sn = int(input(\"Enter sn: \"))\n",
    "sql = f\"DELETE FROM student WHERE student.sn = {sn}\"\n",
    "db.execute(sql)\n",
    "database.commit()"
   ]
  },
  {
   "cell_type": "code",
   "execution_count": null,
   "id": "17fa12df",
   "metadata": {},
   "outputs": [],
   "source": []
  }
 ],
 "metadata": {
  "kernelspec": {
   "display_name": "Python 3 (ipykernel)",
   "language": "python",
   "name": "python3"
  },
  "language_info": {
   "codemirror_mode": {
    "name": "ipython",
    "version": 3
   },
   "file_extension": ".py",
   "mimetype": "text/x-python",
   "name": "python",
   "nbconvert_exporter": "python",
   "pygments_lexer": "ipython3",
   "version": "3.10.9"
  }
 },
 "nbformat": 4,
 "nbformat_minor": 5
}
