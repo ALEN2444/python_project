{
 "cells": [
  {
   "cell_type": "code",
   "execution_count": 4,
   "id": "8d27f9d5",
   "metadata": {},
   "outputs": [
    {
     "name": "stdout",
     "output_type": "stream",
     "text": [
      "Hello\n",
      "Hlowrdhr  m\n"
     ]
    }
   ],
   "source": [
    "a = \"Hello world here i am\"\n",
    "print(a[0:5])  # slicing\n",
    "print(a[0:23:2])\n"
   ]
  },
  {
   "cell_type": "code",
   "execution_count": 5,
   "id": "da6762c0",
   "metadata": {},
   "outputs": [
    {
     "name": "stdout",
     "output_type": "stream",
     "text": [
      "eajfal\n"
     ]
    }
   ],
   "source": [
    "#slicing\n",
    "a =\"eajfal lafnealnf alenfajlefn\"\n",
    "b = a[0:6]\n",
    "print(b)"
   ]
  },
  {
   "cell_type": "code",
   "execution_count": 6,
   "id": "8099550b",
   "metadata": {},
   "outputs": [
    {
     "data": {
      "text/plain": [
       "'o'"
      ]
     },
     "execution_count": 6,
     "metadata": {},
     "output_type": "execute_result"
    }
   ],
   "source": [
    "a = \"Python\"\n",
    "a[-2]"
   ]
  },
  {
   "cell_type": "code",
   "execution_count": 7,
   "id": "c5493cab",
   "metadata": {},
   "outputs": [
    {
     "data": {
      "text/plain": [
       "'nohty'"
      ]
     },
     "execution_count": 7,
     "metadata": {},
     "output_type": "execute_result"
    }
   ],
   "source": [
    "a = \"Python\"\n",
    "a[-1:0:-1]"
   ]
  },
  {
   "cell_type": "code",
   "execution_count": 8,
   "id": "6a08f102",
   "metadata": {},
   "outputs": [
    {
     "data": {
      "text/plain": [
       "'nohtyP'"
      ]
     },
     "execution_count": 8,
     "metadata": {},
     "output_type": "execute_result"
    }
   ],
   "source": [
    "a = \"Python\"\n",
    "a[::-1]"
   ]
  },
  {
   "cell_type": "code",
   "execution_count": 9,
   "id": "b29f54c2",
   "metadata": {},
   "outputs": [
    {
     "name": "stdout",
     "output_type": "stream",
     "text": [
      "enter a string: bipin\n",
      "The reverse of the string is:  nipib\n"
     ]
    }
   ],
   "source": [
    "n = input(\"enter a string: \")\n",
    "print(\"The reverse of the string is: \", n[::-1])"
   ]
  },
  {
   "cell_type": "code",
   "execution_count": 14,
   "id": "be4b0247",
   "metadata": {},
   "outputs": [
    {
     "name": "stdout",
     "output_type": "stream",
     "text": [
      "It is a palindrome number\n"
     ]
    }
   ],
   "source": [
    "a = \"101\"\n",
    "if a[::-1] == a:\n",
    "    print(\"It is a palindrome number\")\n",
    "else:\n",
    "    print(\"it is a non palindrome number\")"
   ]
  },
  {
   "cell_type": "code",
   "execution_count": 16,
   "id": "74b0cae2",
   "metadata": {},
   "outputs": [
    {
     "name": "stdout",
     "output_type": "stream",
     "text": [
      "enter a name: bipin\n",
      "enter your age: 19\n",
      "enter add: kathmandu\n",
      "my name is bipin and i am 19 years old and i live in kathmandu\n"
     ]
    }
   ],
   "source": [
    "#string formating\n",
    "name = input(\"enter a name: \")\n",
    "age = int(input(\"enter your age: \"))\n",
    "add = input(\"enter add: \")\n",
    "c = f\"my name is {name} and i am {age} years old and i live in {add}\"\n",
    "print(c)"
   ]
  },
  {
   "cell_type": "code",
   "execution_count": 22,
   "id": "c81d3f92",
   "metadata": {},
   "outputs": [
    {
     "name": "stdout",
     "output_type": "stream",
     "text": [
      "enter value for search r\n",
      "there is  r\n",
      "4\n"
     ]
    }
   ],
   "source": [
    "a = \"ram shyam hari gita sita ramesh ram\".lower()\n",
    "search = input(\"enter value for search \").lower()\n",
    "if search in a:\n",
    "    print(\"there is \", search)\n",
    "    print(a.count(search))\n",
    "else:\n",
    "    print(\"there is noone named \", search)"
   ]
  },
  {
   "cell_type": "code",
   "execution_count": 25,
   "id": "4f775c70",
   "metadata": {},
   "outputs": [
    {
     "name": "stdout",
     "output_type": "stream",
     "text": [
      "ram shyam hari gita sita rita lakman\n"
     ]
    }
   ],
   "source": [
    "#upper()\n",
    "#lower() \n",
    "a = \"Ram Shyam Hari Gita Sita Rita Laskman\"\n",
    "a = a.lower()\n",
    "print(a)"
   ]
  },
  {
   "cell_type": "code",
   "execution_count": 31,
   "id": "b674c718",
   "metadata": {},
   "outputs": [
    {
     "name": "stdout",
     "output_type": "stream",
     "text": [
      "Rm Shym Hri Git Sit Rit Lskmn\n"
     ]
    }
   ],
   "source": [
    "#Replace\n",
    "a = \"Ram Shyam Hari Gita Sita Rita Laskman\"\n",
    "a = a.replace('a','')\n",
    "print(a)"
   ]
  },
  {
   "cell_type": "code",
   "execution_count": null,
   "id": "c7d3950a",
   "metadata": {},
   "outputs": [],
   "source": []
  }
 ],
 "metadata": {
  "kernelspec": {
   "display_name": "Python 3 (ipykernel)",
   "language": "python",
   "name": "python3"
  },
  "language_info": {
   "codemirror_mode": {
    "name": "ipython",
    "version": 3
   },
   "file_extension": ".py",
   "mimetype": "text/x-python",
   "name": "python",
   "nbconvert_exporter": "python",
   "pygments_lexer": "ipython3",
   "version": "3.10.9"
  }
 },
 "nbformat": 4,
 "nbformat_minor": 5
}
