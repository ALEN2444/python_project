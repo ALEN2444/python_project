{
 "cells": [
  {
   "cell_type": "code",
   "execution_count": 1,
   "id": "9a0a3a3c",
   "metadata": {},
   "outputs": [],
   "source": [
    "# WAP to make a billing system in list inside list \n",
    "# WAP to create a program to create a matrix taking row, column and values from users\n",
    "# WAP to create tuple inside tuple and convert it into list inside list \n",
    "# WAP tp create dict inside list and CRUD operations\n",
    "# WAP to create dict inside dict and CRUD operations\n"
   ]
  },
  {
   "cell_type": "code",
   "execution_count": 9,
   "id": "04b57a19",
   "metadata": {},
   "outputs": [
    {
     "name": "stdout",
     "output_type": "stream",
     "text": [
      "enter n = 2\n",
      "enter name of product: bread\n",
      "enter price of product: 2\n",
      "enter quantity of product: 220\n",
      "enter name of product: meat\n",
      "enter price of product: 550\n",
      "enter quantity of product: 2\n",
      "[['bread', 2, 220, 440], ['meat', 550, 2, 1100]]\n",
      "1540\n"
     ]
    }
   ],
   "source": [
    "# Biling system\n",
    "all_total=0\n",
    "info = []\n",
    "n = int(input(\"enter n = \"))\n",
    "for i in range(n):\n",
    "    name = input(\"enter name of product: \")\n",
    "    price = int(input(\"enter price of product: \"))\n",
    "    quantity = int(input(\"enter quantity of product: \"))\n",
    "    total = price * quantity\n",
    "    bill = [name,price,quantity,total]\n",
    "    info.append(bill)\n",
    "    all_total = all_total + total\n",
    "    \n",
    "print(info)\n",
    "print(\"total number of bill is : \",all_total)\n",
    "\n",
    "\n",
    "    "
   ]
  },
  {
   "cell_type": "code",
   "execution_count": 17,
   "id": "a19e55a7",
   "metadata": {},
   "outputs": [
    {
     "name": "stdout",
     "output_type": "stream",
     "text": [
      "enter a = 1\n",
      "enter b = 2\n",
      "enter c = 3\n",
      "enter a = 1\n",
      "enter b = 5\n",
      "enter c = 6\n",
      "enter a = 4\n",
      "enter b = 5\n",
      "enter c = 5\n",
      "[[1, 2, 3], [1, 5, 6], [4, 5, 5]]\n"
     ]
    }
   ],
   "source": [
    "info = []\n",
    "for i in range(3):\n",
    "    a = int(input(\"enter a = \"))\n",
    "    b = int(input(\"enter b = \"))\n",
    "    c = int(input(\"enter c = \"))\n",
    "    d = [a,b,c]\n",
    "    info.append(d)\n",
    "print(info)\n",
    "\n",
    "\n",
    "\n",
    "\n",
    "\n",
    "\n",
    "\n",
    "\n",
    "# a = [[1,2,3],[4,5,6],[7,8,9]]\n",
    "# print(a[0])\n",
    "# print(a[1])\n",
    "# print(a[2])\n"
   ]
  },
  {
   "cell_type": "code",
   "execution_count": 20,
   "id": "873fb662",
   "metadata": {},
   "outputs": [
    {
     "name": "stdout",
     "output_type": "stream",
     "text": [
      "enter n = 2\n",
      "enter name of product: bread\n",
      "enter price of product: 120\n",
      "enter quantity of product: 15\n",
      "enter name of product: milk\n",
      "enter price of product: 60\n",
      "enter quantity of product: 5\n",
      "(('bread', 120, 15, 1800), ('milk', 60, 5, 300))\n"
     ]
    }
   ],
   "source": [
    "info = ()\n",
    "n = int(input(\"enter n = \"))\n",
    "for i in range(n):\n",
    "    name = input(\"enter name of product: \")\n",
    "    price = int(input(\"enter price of product: \"))\n",
    "    quantity = int(input(\"enter quantity of product: \"))\n",
    "    total = price * quantity\n",
    "    bill = (name,price,quantity,total)\n",
    "    info = info + (bill,)\n",
    "    all_total = all_total + total\n",
    "    \n",
    "print(info)\n",
    "\n"
   ]
  },
  {
   "cell_type": "code",
   "execution_count": 25,
   "id": "47f10e2f",
   "metadata": {},
   "outputs": [],
   "source": [
    "l = []\n",
    "info = (('bread', 120, 2, 240), ('milk', 60, 4, 240))\n",
    "for i in info:\n",
    "    l.append(list(i))"
   ]
  },
  {
   "cell_type": "code",
   "execution_count": 26,
   "id": "332288d6",
   "metadata": {},
   "outputs": [],
   "source": [
    "t = ()\n",
    "a = (('bread', 120, 15, 1800), ('milk', 60, 5, 300))\n",
    "for i in a:\n",
    "    t = t +(tuple(i),)"
   ]
  },
  {
   "cell_type": "code",
   "execution_count": 28,
   "id": "98ddb9cb",
   "metadata": {},
   "outputs": [
    {
     "name": "stdout",
     "output_type": "stream",
     "text": [
      "[{'name': 'Ram', 'age': 56, 'address': 'kathmandu'}, {'name': 'shyam', 'age': 26, 'address': 'nepal'}, {'name': 'hari', 'age': 16, 'address': 'india'}]\n"
     ]
    }
   ],
   "source": [
    "A = [{'name':\"Ram\", 'age':56,'address': \"kathmandu\"},\n",
    "    {'name':\"shyam\", 'age':26,'address': \"nepal\"},\n",
    "    {'name':\"hari\", 'age':16,'address': \"india\"}]\n",
    "print(A)"
   ]
  },
  {
   "cell_type": "code",
   "execution_count": 32,
   "id": "50430a43",
   "metadata": {},
   "outputs": [
    {
     "name": "stdout",
     "output_type": "stream",
     "text": [
      "Enter n = 2\n",
      "enter name = bipin\n",
      "Enter age = 11\n",
      "Enter you address = ktm\n",
      "enter name = kk\n",
      "Enter age = 6\n",
      "Enter you address = papi\n",
      "[{'name': 'bipin', 'age': 11, 'address': 'ktm'}, {'name': 'kk', 'age': 6, 'address': 'papi'}]\n"
     ]
    }
   ],
   "source": [
    "L = []\n",
    "n = int(input(\"Enter n = \"))\n",
    "for i in range(n):\n",
    "    name = input(\"enter name = \")\n",
    "    age = int(input(\"Enter age = \"))\n",
    "    address = input(\"Enter you address = \")\n",
    "    info = {'name':name,'age':age,'address':address}\n",
    "    L.append(info)\n",
    "print(L)"
   ]
  },
  {
   "cell_type": "code",
   "execution_count": 33,
   "id": "726bb842",
   "metadata": {},
   "outputs": [],
   "source": [
    "# inside set no list no dict , no set\n"
   ]
  },
  {
   "cell_type": "code",
   "execution_count": 35,
   "id": "fdfb464c",
   "metadata": {},
   "outputs": [
    {
     "name": "stdout",
     "output_type": "stream",
     "text": [
      "{1: {'name': 'bipin', 'age': 11, 'address': 'ktm'}, 2: {'name': 'kk', 'age': 6, 'address': 'papi'}, 3: {'name': 'bipin', 'age': 11, 'address': 'ktm'}}\n"
     ]
    }
   ],
   "source": [
    "# dict inside dict\n",
    "d = {1:{'name': 'bipin', 'age': 11, 'address': 'ktm'}, 2:{'name': 'kk', 'age': 6, 'address': 'papi'},\n",
    "    3:{'name': 'bipin', 'age': 11, 'address': 'ktm'}}\n",
    "print(d)"
   ]
  },
  {
   "cell_type": "code",
   "execution_count": 38,
   "id": "40094c6c",
   "metadata": {},
   "outputs": [
    {
     "name": "stdout",
     "output_type": "stream",
     "text": [
      "Enter n = 0\n",
      "[]\n"
     ]
    }
   ],
   "source": [
    "L = []\n",
    "n = int(input(\"Enter n = \"))\n",
    "for i in range(n):\n",
    "    a = int(input(\"enter a: \"))\n",
    "    name = input(\"enter name = \")\n",
    "    age = int(input(\"Enter age = \"))\n",
    "    address = input(\"Enter you address = \")\n",
    "    info = {a:{'name':name,'age':age,'address':address}}\n",
    "    L.append(info)\n",
    "print(L)"
   ]
  },
  {
   "cell_type": "code",
   "execution_count": null,
   "id": "a1b35133",
   "metadata": {},
   "outputs": [],
   "source": []
  }
 ],
 "metadata": {
  "kernelspec": {
   "display_name": "Python 3 (ipykernel)",
   "language": "python",
   "name": "python3"
  },
  "language_info": {
   "codemirror_mode": {
    "name": "ipython",
    "version": 3
   },
   "file_extension": ".py",
   "mimetype": "text/x-python",
   "name": "python",
   "nbconvert_exporter": "python",
   "pygments_lexer": "ipython3",
   "version": "3.10.9"
  }
 },
 "nbformat": 4,
 "nbformat_minor": 5
}
