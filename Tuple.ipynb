{
 "cells": [
  {
   "cell_type": "code",
   "execution_count": 3,
   "id": "36c2160d",
   "metadata": {},
   "outputs": [],
   "source": [
    "# tuple \n",
    "# - Indexing \n",
    "# - ordered \n",
    "# - Multiple and duplicate data\n",
    "# - Imutable( unchangeable)"
   ]
  },
  {
   "cell_type": "code",
   "execution_count": 8,
   "id": "190cbe58",
   "metadata": {},
   "outputs": [
    {
     "name": "stdout",
     "output_type": "stream",
     "text": [
      "<class 'tuple'>\n"
     ]
    }
   ],
   "source": [
    "t = (1,2,3,4)\n",
    "print(type(t))"
   ]
  },
  {
   "cell_type": "code",
   "execution_count": 12,
   "id": "9da98bf5",
   "metadata": {},
   "outputs": [
    {
     "name": "stdout",
     "output_type": "stream",
     "text": [
      "('Apple', 'Banana', 'Cat', 'Dog', 'Eyes', 'Eyes')\n",
      "Apple\n",
      "('Apple', 'Banana', 'Cat')\n",
      "('Apple', 'Cat')\n"
     ]
    }
   ],
   "source": [
    "t = ('Apple', 'Banana', 'Cat', 'Dog', 'Eyes','Eyes')\n",
    "print(t)\n",
    "print(t[0])\n",
    "print(t[0:3])\n",
    "print(t[0:4:2])"
   ]
  },
  {
   "cell_type": "code",
   "execution_count": 13,
   "id": "0841d475",
   "metadata": {},
   "outputs": [],
   "source": [
    "# No append()\n",
    "# No insert()\n",
    "# No extend()\n",
    "# No update()\n",
    "# No delete(remove()del pop())\n",
    "# No sort\n"
   ]
  },
  {
   "cell_type": "code",
   "execution_count": 14,
   "id": "e4144c1f",
   "metadata": {},
   "outputs": [],
   "source": [
    "# Can use -> index(),max(),min(),sum()"
   ]
  },
  {
   "cell_type": "code",
   "execution_count": 18,
   "id": "d6b03471",
   "metadata": {},
   "outputs": [
    {
     "name": "stdout",
     "output_type": "stream",
     "text": [
      "[1, 2, 3, 4]\n",
      "[2, 3, 4]\n",
      "(2, 3, 4)\n"
     ]
    }
   ],
   "source": [
    "a = (1,2,3,4)\n",
    "b = list(a)\n",
    "print(b)\n",
    "del b[0]\n",
    "print(b)\n",
    "a = tuple(b)\n",
    "print(a)"
   ]
  },
  {
   "cell_type": "code",
   "execution_count": 21,
   "id": "d329d486",
   "metadata": {},
   "outputs": [
    {
     "name": "stdout",
     "output_type": "stream",
     "text": [
      "(1, 2, 3, 4, 5, 2, 3, 4, 7, 8)\n",
      "(1, 2, 3, 4, 5, 3, 4, 5, 5, 6, 7)\n"
     ]
    }
   ],
   "source": [
    "#concatination in tuple\n",
    "a = (1,2,3,4,5) + (2,3,4,7,8)\n",
    "print(a)\n",
    "a = (1,2,3,4,5)\n",
    "b = (3,4,5,5,6,7)\n",
    "c = a + b\n",
    "print(c)\n"
   ]
  },
  {
   "cell_type": "code",
   "execution_count": 22,
   "id": "c1d3ee82",
   "metadata": {},
   "outputs": [
    {
     "name": "stdout",
     "output_type": "stream",
     "text": [
      "(1, 2, 3, 4, 1, 2, 3, 4)\n"
     ]
    }
   ],
   "source": [
    "a = (1,2,3,4)\n",
    "b = a * 2\n",
    "print(b)"
   ]
  },
  {
   "cell_type": "code",
   "execution_count": 25,
   "id": "c05ae646",
   "metadata": {},
   "outputs": [
    {
     "name": "stdout",
     "output_type": "stream",
     "text": [
      "('Apple',)\n"
     ]
    }
   ],
   "source": [
    "a = ()\n",
    "b = (\"Apple\",)\n",
    "a = a + b\n",
    "print(a)"
   ]
  },
  {
   "cell_type": "code",
   "execution_count": 30,
   "id": "a37d96de",
   "metadata": {},
   "outputs": [
    {
     "name": "stdout",
     "output_type": "stream",
     "text": [
      "enter a number: 2\n",
      "enter x = bipin\n",
      "enter x = salina\n",
      "('bipin', 'salina')\n"
     ]
    }
   ],
   "source": [
    "t = ()\n",
    "n = int(input(\"enter a number: \"))\n",
    "for i in range(n):\n",
    "    x = input(\"enter x = \")\n",
    "    t = t + (x,)\n",
    "print(t)"
   ]
  },
  {
   "cell_type": "code",
   "execution_count": 32,
   "id": "6e6b86ed",
   "metadata": {},
   "outputs": [
    {
     "data": {
      "text/plain": [
       "('s', 'a', 'l', 'i', 'n', 'a')"
      ]
     },
     "execution_count": 32,
     "metadata": {},
     "output_type": "execute_result"
    }
   ],
   "source": [
    "tuple(x)\n"
   ]
  },
  {
   "cell_type": "code",
   "execution_count": null,
   "id": "edc5695b",
   "metadata": {},
   "outputs": [],
   "source": []
  }
 ],
 "metadata": {
  "kernelspec": {
   "display_name": "Python 3 (ipykernel)",
   "language": "python",
   "name": "python3"
  },
  "language_info": {
   "codemirror_mode": {
    "name": "ipython",
    "version": 3
   },
   "file_extension": ".py",
   "mimetype": "text/x-python",
   "name": "python",
   "nbconvert_exporter": "python",
   "pygments_lexer": "ipython3",
   "version": "3.10.9"
  }
 },
 "nbformat": 4,
 "nbformat_minor": 5
}
