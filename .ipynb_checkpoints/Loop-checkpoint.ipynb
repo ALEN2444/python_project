{
 "cells": [
  {
   "cell_type": "code",
   "execution_count": null,
   "id": "a71d8c8c",
   "metadata": {},
   "outputs": [],
   "source": [
    "#for loop\n",
    "#while loop"
   ]
  },
  {
   "cell_type": "code",
   "execution_count": 3,
   "id": "bf51f547",
   "metadata": {},
   "outputs": [
    {
     "data": {
      "text/plain": [
       "range(0, 5)"
      ]
     },
     "execution_count": 3,
     "metadata": {},
     "output_type": "execute_result"
    }
   ],
   "source": [
    "#different type of range\n",
    "range(5) # 0 1 2 3 4 \n",
    "range(1,5) # 1,2,3,4\n",
    "range(1,10,2) # 1,3,5,7,9"
   ]
  },
  {
   "cell_type": "code",
   "execution_count": 8,
   "id": "27b01ef4",
   "metadata": {},
   "outputs": [
    {
     "name": "stdout",
     "output_type": "stream",
     "text": [
      "0\n",
      "1\n",
      "2\n",
      "3\n",
      "4\n"
     ]
    }
   ],
   "source": [
    "for i in range(5):\n",
    "    print(i)"
   ]
  },
  {
   "cell_type": "code",
   "execution_count": 18,
   "id": "aa954108",
   "metadata": {},
   "outputs": [
    {
     "name": "stdout",
     "output_type": "stream",
     "text": [
      "1\n",
      "2\n",
      "3\n",
      "4\n"
     ]
    }
   ],
   "source": [
    "for i in range(1,5):\n",
    "    print(i)"
   ]
  },
  {
   "cell_type": "code",
   "execution_count": 14,
   "id": "3e3d6107",
   "metadata": {},
   "outputs": [
    {
     "name": "stdout",
     "output_type": "stream",
     "text": [
      "1\n",
      "4\n",
      "7\n",
      "10\n"
     ]
    }
   ],
   "source": [
    "for i in range(1,11,3):\n",
    "    print(i)"
   ]
  },
  {
   "cell_type": "code",
   "execution_count": 16,
   "id": "08519eb9",
   "metadata": {},
   "outputs": [
    {
     "name": "stdout",
     "output_type": "stream",
     "text": [
      "0 hey\n",
      "1 hey\n",
      "2 hey\n",
      "3 hey\n",
      "4 hey\n",
      "5 hey\n"
     ]
    }
   ],
   "source": [
    "for i in range(6):\n",
    "    print(i,\"hey\")"
   ]
  },
  {
   "cell_type": "code",
   "execution_count": 8,
   "id": "7ba5736d",
   "metadata": {},
   "outputs": [
    {
     "name": "stdout",
     "output_type": "stream",
     "text": [
      "22222\n",
      "2222\n",
      "222\n",
      "22\n",
      "2\n"
     ]
    }
   ],
   "source": [
    "for i in range(5,0,-1):\n",
    "    print(i*\"2\")"
   ]
  },
  {
   "cell_type": "code",
   "execution_count": 12,
   "id": "355630bf",
   "metadata": {},
   "outputs": [
    {
     "name": "stdout",
     "output_type": "stream",
     "text": [
      "enter a number= 4\n",
      "4 * 0 = 0\n",
      "4 * 1 = 4\n",
      "4 * 2 = 8\n",
      "4 * 3 = 12\n",
      "4 * 4 = 16\n",
      "4 * 5 = 20\n",
      "4 * 6 = 24\n",
      "4 * 7 = 28\n",
      "4 * 8 = 32\n",
      "4 * 9 = 36\n",
      "4 * 10 = 40\n"
     ]
    }
   ],
   "source": [
    "n = int(input(\"enter a number= \"))\n",
    "for i in range(0,11):\n",
    "    print(n,\"*\" ,i, \"=\", i*n)"
   ]
  },
  {
   "cell_type": "code",
   "execution_count": 1,
   "id": "ba526e37",
   "metadata": {},
   "outputs": [
    {
     "name": "stdout",
     "output_type": "stream",
     "text": [
      "enter your name: Bipin Ranabhat\n",
      "enter your physics marks: 65\n",
      "enter your maths marks: 65\n",
      "enter your chemistry marks: 45\n",
      "enter your biology marks: 75\n",
      "enter your english marks: 85\n",
      "Name=  Bipin Ranabhat\n",
      "Total=  335\n",
      "percentage=  67.0\n",
      "Grade=  B\n",
      "enter your name: Bibek Ranabhat\n",
      "enter your physics marks: 63\n",
      "enter your maths marks: 96\n",
      "enter your chemistry marks: 98\n",
      "enter your biology marks: 94\n",
      "enter your english marks: 88\n",
      "Name=  Bibek Ranabhat\n",
      "Total=  439\n",
      "percentage=  87.8\n",
      "Grade=  A\n",
      "enter your name: salina giri\n",
      "enter your physics marks: 98\n",
      "enter your maths marks: 98\n",
      "enter your chemistry marks: 75\n",
      "enter your biology marks: 36\n",
      "enter your english marks: 85\n",
      "Name=  salina giri\n",
      "Total=  392\n",
      "percentage=  78.4\n",
      "Grade=  B\n"
     ]
    }
   ],
   "source": [
    "for i in range(3):\n",
    "    name = input(\"enter your name: \")\n",
    "    physics = int(input(\"enter your physics marks: \"))\n",
    "    maths = int(input(\"enter your maths marks: \"))\n",
    "    chemistry = int(input(\"enter your chemistry marks: \"))\n",
    "    biology = int(input(\"enter your biology marks: \"))\n",
    "    english = int(input(\"enter your english marks: \"))\n",
    "\n",
    "    total = physics + maths + chemistry + biology + english \n",
    "\n",
    "    per = total/5\n",
    "\n",
    "    if per>=80:\n",
    "        grade = \"A\"\n",
    "    elif per>=60:\n",
    "        grade = \"B\"\n",
    "    elif per>=45:\n",
    "        grade = \"C\"\n",
    "    else:\n",
    "        grade = \"Fail\"\n",
    "    print(\"Name= \", name)\n",
    "    print(\"Total= \", total)\n",
    "    print(\"percentage= \", per)\n",
    "    print(\"Grade= \", grade)"
   ]
  },
  {
   "cell_type": "code",
   "execution_count": 18,
   "id": "f5dce3f0",
   "metadata": {},
   "outputs": [
    {
     "name": "stdout",
     "output_type": "stream",
     "text": [
      " *  *  *  *  * \n",
      " *  *  *  * \n",
      " *  *  * \n",
      " *  * \n",
      " * \n",
      "\n",
      " * \n",
      " *  * \n",
      " *  *  * \n",
      " *  *  *  * \n",
      " *  *  *  *  * \n"
     ]
    }
   ],
   "source": [
    "for i in range(5,0,-1):\n",
    "    print(i*\" * \")\n",
    "for i in range(0,6,1):\n",
    "    print(i*\" * \")"
   ]
  },
  {
   "cell_type": "code",
   "execution_count": 12,
   "id": "05a3913e",
   "metadata": {},
   "outputs": [
    {
     "name": "stdout",
     "output_type": "stream",
     "text": [
      "Enter x = 4\n",
      "4\n",
      "Enter x = 4\n",
      "8\n",
      "Enter x = 4\n",
      "12\n",
      "Enter x = 5\n",
      "17\n",
      "Enter x = 5\n",
      "22\n"
     ]
    }
   ],
   "source": [
    "s = 0\n",
    "for i in range(5):\n",
    "    x = int(input(\"Enter x = \"))\n",
    "    s = s + x\n",
    "    print(s)"
   ]
  },
  {
   "cell_type": "code",
   "execution_count": 27,
   "id": "ae5bf539",
   "metadata": {},
   "outputs": [
    {
     "name": "stdout",
     "output_type": "stream",
     "text": [
      "Enter x = 1\n",
      "1\n",
      "Enter x = 5\n",
      "5\n",
      "Enter x = 6\n",
      "30\n",
      "Enter x = 8\n",
      "240\n",
      "Enter x = 9\n",
      "2160\n"
     ]
    }
   ],
   "source": [
    "s = 1\n",
    "for i in range(5):\n",
    "    x = int(input(\"Enter x = \"))  \n",
    "    s = s * x\n",
    "    print(s)"
   ]
  },
  {
   "cell_type": "code",
   "execution_count": 41,
   "id": "d9c521f3",
   "metadata": {},
   "outputs": [
    {
     "name": "stdout",
     "output_type": "stream",
     "text": [
      "enter value of n = 5\n",
      "1\n",
      "2\n",
      "6\n",
      "24\n",
      "120\n"
     ]
    }
   ],
   "source": [
    "s = 1\n",
    "n = int(input(\"enter value of n = \"))\n",
    "for i in range(1,n+1):\n",
    "    s = s*i\n",
    "    print(s)"
   ]
  },
  {
   "cell_type": "code",
   "execution_count": 46,
   "id": "e815d6dd",
   "metadata": {},
   "outputs": [
    {
     "name": "stdout",
     "output_type": "stream",
     "text": [
      "Enter n = 2\n",
      "enter your name: ram\n",
      "enter your number: 98555555555\n",
      "ram-98555555555\n",
      "\n",
      "enter your name: sham\n",
      "enter your number: 4444462221\n",
      "ram-98555555555\n",
      "sham-4444462221\n",
      "\n"
     ]
    }
   ],
   "source": [
    "info = str()\n",
    "n = int(input(\"Enter n = \"))\n",
    "for i in range(n):\n",
    "    name = input(\"enter your name: \")\n",
    "    phone = str(input(\"enter your number: \"))\n",
    "    x = name + \"-\" + phone + \"\\n\"\n",
    "    info = info + x\n",
    "print(info)"
   ]
  },
  {
   "cell_type": "code",
   "execution_count": 1,
   "id": "7922dafc",
   "metadata": {},
   "outputs": [],
   "source": [
    "# WAP to create a billing application\n",
    "# ask user name of product, price of product, quantity of product, total sum of the product, grand total\n"
   ]
  },
  {
   "cell_type": "code",
   "execution_count": 3,
   "id": "ba032784",
   "metadata": {},
   "outputs": [
    {
     "name": "stdout",
     "output_type": "stream",
     "text": [
      "enter number of entries: \n",
      "3\n",
      "enter your product name: bread\n",
      "enter product's price: 45\n",
      "enter number of product: 4\n",
      "enter your product name: pan\n",
      "enter product's price: 444\n",
      "enter number of product: 4\n",
      "enter your product name: cake\n",
      "enter product's price: 555\n",
      "enter number of product: 8\n",
      "Product name: bread\n",
      "Product price: 45.0\n",
      "Total payment: 180.0\n",
      "\n",
      "Product name: pan\n",
      "Product price: 444.0\n",
      "Total payment: 1776.0\n",
      "\n",
      "Product name: cake\n",
      "Product price: 555.0\n",
      "Total payment: 4440.0\n",
      "\n",
      "\n",
      "Total price:  6396.0\n"
     ]
    }
   ],
   "source": [
    "info = str()\n",
    "grand_total = 0\n",
    "n = int(input(\"enter number of entries: \" \"\\n\"))\n",
    "\n",
    "for i in range(n):\n",
    "    name = input(\"enter your product name: \")\n",
    "    price = float(input(\"enter product's price: \"))\n",
    "    quantity = int(input(\"enter number of product: \"))\n",
    "    total = price * quantity\n",
    "    grand_total = grand_total + total\n",
    "    x = \"Product name: \"+ name +\"\\n\" + \"Product price: \" + str(price)  +\"\\n\" \"Total payment: \" + str(total) + \"\\n\" \"\\n\"\n",
    "    info = info + x\n",
    "print(info)\n",
    "print(\"Total price: \",grand_total)\n",
    "    "
   ]
  },
  {
   "cell_type": "code",
   "execution_count": 27,
   "id": "87d0bf20",
   "metadata": {},
   "outputs": [
    {
     "name": "stdout",
     "output_type": "stream",
     "text": [
      "bpn JBR"
     ]
    }
   ],
   "source": [
    "a = \"bipin JBR\"\n",
    "for i in a:\n",
    "    if i !=\" \":\n",
    "        print(i, end =\"\")"
   ]
  },
  {
   "cell_type": "code",
   "execution_count": 7,
   "id": "c7c05582",
   "metadata": {},
   "outputs": [
    {
     "name": "stdout",
     "output_type": "stream",
     "text": [
      "bipinJBRR\n"
     ]
    }
   ],
   "source": [
    "a = \"bipin_JBR\"\n",
    "for i in a:\n",
    "    if i !=\"_\" :\n",
    "        print(i,end =\"\")\n",
    "\n",
    "    "
   ]
  },
  {
   "cell_type": "code",
   "execution_count": 2,
   "id": "77f80034",
   "metadata": {},
   "outputs": [],
   "source": [
    "# while <condition>\n",
    "# <operation>"
   ]
  },
  {
   "cell_type": "code",
   "execution_count": 9,
   "id": "67ab0685",
   "metadata": {},
   "outputs": [
    {
     "name": "stdout",
     "output_type": "stream",
     "text": [
      "0 hello world\n",
      "1 hello world\n",
      "2 hello world\n",
      "3 hello world\n",
      "4 hello world\n",
      "5 hello world\n"
     ]
    }
   ],
   "source": [
    "a = 0\n",
    "while a<5:\n",
    "    print(a,\"hello world\")\n",
    "    a = a+1"
   ]
  },
  {
   "cell_type": "code",
   "execution_count": 10,
   "id": "69c8d8ff",
   "metadata": {},
   "outputs": [
    {
     "name": "stdout",
     "output_type": "stream",
     "text": [
      "5 hello world\n",
      "4 hello world\n",
      "3 hello world\n",
      "2 hello world\n",
      "1 hello world\n"
     ]
    }
   ],
   "source": [
    "a = 5\n",
    "while a>0:\n",
    "    print(a,\"hello world\")\n",
    "    a = a-1"
   ]
  },
  {
   "cell_type": "code",
   "execution_count": 13,
   "id": "7bbdccb5",
   "metadata": {},
   "outputs": [
    {
     "name": "stdout",
     "output_type": "stream",
     "text": [
      "enter value of n: 5\n",
      "5 * 1 = 5\n",
      "5 * 2 = 10\n",
      "5 * 3 = 15\n",
      "5 * 4 = 20\n",
      "5 * 5 = 25\n",
      "5 * 6 = 30\n",
      "5 * 7 = 35\n",
      "5 * 8 = 40\n",
      "5 * 9 = 45\n",
      "5 * 10 = 50\n"
     ]
    }
   ],
   "source": [
    "n = int(input(\"enter value of n: \"))\n",
    "i = 1\n",
    "while i <= 10:\n",
    "    print(n,\"*\",i,\"=\",n*i)\n",
    "    i = i+1"
   ]
  },
  {
   "cell_type": "code",
   "execution_count": 19,
   "id": "9ed909c9",
   "metadata": {},
   "outputs": [
    {
     "name": "stdout",
     "output_type": "stream",
     "text": [
      "enter a number: 4\n",
      "enter value of n: 45\n",
      "45\n",
      "enter value of n: 55\n",
      "100\n",
      "enter value of n: 55\n",
      "155\n",
      "enter value of n: 55\n",
      "210\n"
     ]
    }
   ],
   "source": [
    "s = 0\n",
    "i=0\n",
    "n = int(input(\"enter a number: \"))\n",
    "while i < n:\n",
    "    x = int(input(\"enter value of n: \"))\n",
    "    s = s+x\n",
    "    i += 1\n",
    "    print(s)"
   ]
  },
  {
   "cell_type": "code",
   "execution_count": null,
   "id": "93844598",
   "metadata": {},
   "outputs": [],
   "source": [
    "# WAP TO CHECK IF THE GIVEN NUMBER IS PRIME OR COMPOSITE\n"
   ]
  },
  {
   "cell_type": "code",
   "execution_count": null,
   "id": "5f3a916e",
   "metadata": {},
   "outputs": [],
   "source": []
  },
  {
   "cell_type": "code",
   "execution_count": null,
   "id": "ad7c7b0c",
   "metadata": {},
   "outputs": [],
   "source": []
  },
  {
   "cell_type": "code",
   "execution_count": null,
   "id": "82c68daa",
   "metadata": {},
   "outputs": [],
   "source": []
  },
  {
   "cell_type": "code",
   "execution_count": null,
   "id": "16418f20",
   "metadata": {},
   "outputs": [],
   "source": []
  },
  {
   "cell_type": "code",
   "execution_count": null,
   "id": "4b5151e8",
   "metadata": {},
   "outputs": [],
   "source": []
  },
  {
   "cell_type": "code",
   "execution_count": null,
   "id": "455862a5",
   "metadata": {},
   "outputs": [],
   "source": []
  },
  {
   "cell_type": "code",
   "execution_count": null,
   "id": "90eaf030",
   "metadata": {},
   "outputs": [],
   "source": []
  }
 ],
 "metadata": {
  "kernelspec": {
   "display_name": "Python 3 (ipykernel)",
   "language": "python",
   "name": "python3"
  },
  "language_info": {
   "codemirror_mode": {
    "name": "ipython",
    "version": 3
   },
   "file_extension": ".py",
   "mimetype": "text/x-python",
   "name": "python",
   "nbconvert_exporter": "python",
   "pygments_lexer": "ipython3",
   "version": "3.10.9"
  }
 },
 "nbformat": 4,
 "nbformat_minor": 5
}
