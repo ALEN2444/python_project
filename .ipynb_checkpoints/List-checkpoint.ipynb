{
 "cells": [
  {
   "cell_type": "code",
   "execution_count": 1,
   "id": "55e0126b",
   "metadata": {},
   "outputs": [],
   "source": [
    "#Python collection \n",
    "#list \n",
    "#tuple\n",
    "#dict\n",
    "#set"
   ]
  },
  {
   "cell_type": "code",
   "execution_count": 3,
   "id": "4efe2b98",
   "metadata": {},
   "outputs": [],
   "source": [
    "# List \n",
    "#Indexing\n",
    "#Multiple and Duplicate value\n",
    "#ordered\n",
    "#Mutable"
   ]
  },
  {
   "cell_type": "code",
   "execution_count": 4,
   "id": "63ad2746",
   "metadata": {},
   "outputs": [
    {
     "name": "stdout",
     "output_type": "stream",
     "text": [
      "<class 'list'>\n",
      "<class 'list'>\n"
     ]
    }
   ],
   "source": [
    "a = [1,2,3,4,5,6,7,8,9]\n",
    "b = [\"apple\",\"ball\",\"cat\",\"dog\",\"eye\"]\n",
    "print(type(a))\n",
    "print(type(b))"
   ]
  },
  {
   "cell_type": "code",
   "execution_count": 12,
   "id": "dfbf1cfb",
   "metadata": {},
   "outputs": [
    {
     "name": "stdout",
     "output_type": "stream",
     "text": [
      "apple\n",
      "eye\n",
      "['apple', 'ball', 'cat', 'dog']\n",
      "['eye', 'dog', 'cat', 'ball', 'apple']\n",
      "['apple', 'cat']\n"
     ]
    }
   ],
   "source": [
    "b = [\"apple\",\"ball\",\"cat\",\"dog\",\"eye\"]\n",
    "print(b[0])\n",
    "print(b[-1])\n",
    "print(b[0:4])\n",
    "print(b[::-1])\n",
    "print(b[0:4:2])"
   ]
  },
  {
   "cell_type": "code",
   "execution_count": 15,
   "id": "a40538c5",
   "metadata": {},
   "outputs": [
    {
     "name": "stdout",
     "output_type": "stream",
     "text": [
      "[1, 1.5, 'hello', True, 1, 1]\n"
     ]
    }
   ],
   "source": [
    "a = [1,1.5,\"hello\",True,1,1]\n",
    "print(a)"
   ]
  },
  {
   "cell_type": "code",
   "execution_count": 19,
   "id": "208ed13c",
   "metadata": {},
   "outputs": [
    {
     "name": "stdout",
     "output_type": "stream",
     "text": [
      "[5, 1.5, 'hello', True, 1, 'hi']\n"
     ]
    }
   ],
   "source": [
    "a = [1,1.5,\"hello\",True,1,1]\n",
    "a[0]=5\n",
    "a[-1]=\"hi\"\n",
    "print(a)"
   ]
  },
  {
   "cell_type": "code",
   "execution_count": 22,
   "id": "ab6a771d",
   "metadata": {},
   "outputs": [
    {
     "name": "stdout",
     "output_type": "stream",
     "text": [
      "[1, 2, 3, 4, 5, 6, 7, 8, 9, 'apple', 'ball', 'cat', 'dog', 'eye']\n"
     ]
    }
   ],
   "source": [
    "# + *\n",
    "a = [1,2,3,4,5,6,7,8,9]\n",
    "b = [\"apple\",\"ball\",\"cat\",\"dog\",\"eye\"]\n",
    "c = a + b\n",
    "print(c)\n",
    "\n"
   ]
  },
  {
   "cell_type": "code",
   "execution_count": 29,
   "id": "3f8eb90f",
   "metadata": {},
   "outputs": [
    {
     "name": "stdout",
     "output_type": "stream",
     "text": [
      "[1, 2, 3, 4, 5, 6, 7, 8, 9, 'apple', 'ball', 'cat', 'dog', 'eye', 1, 2, 3, 4, 5, 6, 7, 8, 9, 'apple', 'ball', 'cat', 'dog', 'eye']\n"
     ]
    }
   ],
   "source": [
    "a = [1,2,3,4,5,6,7,8,9]\n",
    "b = [\"apple\",\"ball\",\"cat\",\"dog\",\"eye\"]\n",
    "c = a + b\n",
    "print(c*2)"
   ]
  },
  {
   "cell_type": "code",
   "execution_count": 32,
   "id": "497d7deb",
   "metadata": {},
   "outputs": [
    {
     "name": "stdout",
     "output_type": "stream",
     "text": [
      "['Apple', 'ball', 'cat']\n"
     ]
    }
   ],
   "source": [
    "# a = list()\n",
    "a = []\n",
    "a = a + [\"Apple\"]\n",
    "a = a + [\"ball\"]\n",
    "a = a + [\"cat\"]\n",
    "print(a)"
   ]
  },
  {
   "cell_type": "code",
   "execution_count": 41,
   "id": "18586f60",
   "metadata": {},
   "outputs": [
    {
     "name": "stdout",
     "output_type": "stream",
     "text": [
      "enter a number - 5\n",
      "enter value of x = 45\n",
      "enter value of x = 66\n",
      "enter value of x = 2\n",
      "enter value of x = 12\n",
      "enter value of x = 33\n",
      "[45, 66, 2, 12, 33]\n"
     ]
    }
   ],
   "source": [
    "a=[]\n",
    "n = int(input(\"enter a number - \"))\n",
    "for i in range(n):\n",
    "    x = int(input(\"enter value of x = \"))\n",
    "    a = a + [x]\n",
    "print(a)"
   ]
  },
  {
   "cell_type": "code",
   "execution_count": 42,
   "id": "20f8da54",
   "metadata": {},
   "outputs": [
    {
     "name": "stdout",
     "output_type": "stream",
     "text": [
      "The maximum value =  66\n",
      "The minimum value =  2\n",
      "The sum is =  158\n"
     ]
    }
   ],
   "source": [
    "print(\"The maximum value = \",max(a))\n",
    "print(\"The minimum value = \",min(a))\n",
    "print(\"The sum is = \",sum(a))"
   ]
  },
  {
   "cell_type": "code",
   "execution_count": 43,
   "id": "fd7c3cab",
   "metadata": {},
   "outputs": [
    {
     "name": "stdout",
     "output_type": "stream",
     "text": [
      "[2, 12, 33, 45, 66]\n"
     ]
    }
   ],
   "source": [
    "a.sort()\n",
    "print(a)"
   ]
  },
  {
   "cell_type": "code",
   "execution_count": 45,
   "id": "a4cea87c",
   "metadata": {},
   "outputs": [
    {
     "name": "stdout",
     "output_type": "stream",
     "text": [
      "[66, 45, 33, 12, 2]\n"
     ]
    }
   ],
   "source": [
    "a.reverse()\n",
    "print(a)"
   ]
  },
  {
   "cell_type": "code",
   "execution_count": 50,
   "id": "dfc677aa",
   "metadata": {},
   "outputs": [
    {
     "name": "stdout",
     "output_type": "stream",
     "text": [
      "['1zebra', 'Zebra', 'animal', 'cat', 'lion', 'tiger']\n"
     ]
    }
   ],
   "source": [
    "a = [\"1zebra\",\"animal\",\"cat\",\"lion\",\"tiger\",\"Zebra\"]\n",
    "a.sort()\n",
    "print(a)"
   ]
  },
  {
   "cell_type": "code",
   "execution_count": 51,
   "id": "d06c00ad",
   "metadata": {},
   "outputs": [],
   "source": [
    "# To insert values \n",
    "# append() insert() extend()\n",
    "# #delete\n",
    "# del remove() pop()\n"
   ]
  },
  {
   "cell_type": "code",
   "execution_count": 54,
   "id": "775ac778",
   "metadata": {},
   "outputs": [
    {
     "name": "stdout",
     "output_type": "stream",
     "text": [
      "1zebra animal cat lion tiger Zebra "
     ]
    }
   ],
   "source": [
    "a = [\"1zebra\",\"animal\",\"cat\",\"lion\",\"tiger\",\"Zebra\"]\n",
    "for i in a:\n",
    "    print(i, end=\" \")"
   ]
  },
  {
   "cell_type": "code",
   "execution_count": 62,
   "id": "896a51fc",
   "metadata": {},
   "outputs": [
    {
     "name": "stdout",
     "output_type": "stream",
     "text": [
      "['1zebra', 'cat', 'lion', 'tiger', 'Zebra', 'Banana', 'b', 'a', 'n', 'a', 'n', 'a']\n"
     ]
    }
   ],
   "source": [
    "#append\n",
    "a = [\"1zebra\",\"animal\",\"cat\",\"lion\",\"tiger\",\"Zebra\"]\n",
    "a.append(\"Banana\")\n",
    "a.remove(\"animal\")\n",
    "print(a)"
   ]
  },
  {
   "cell_type": "code",
   "execution_count": 65,
   "id": "6d6b215e",
   "metadata": {},
   "outputs": [
    {
     "name": "stdout",
     "output_type": "stream",
     "text": [
      "['1zebra', 'wolf', 'animal', 'cat', 'lion', 'tiger', 'Zebra']\n"
     ]
    }
   ],
   "source": [
    "a = [\"1zebra\",\"animal\",\"cat\",\"lion\",\"tiger\",\"Zebra\"]\n",
    "a.insert(1,\"wolf\")\n",
    "print(a)"
   ]
  },
  {
   "cell_type": "code",
   "execution_count": 68,
   "id": "4f02d734",
   "metadata": {},
   "outputs": [
    {
     "name": "stdout",
     "output_type": "stream",
     "text": [
      "['1zebra', 'animal', 'cat', 'lion', 'tiger', 'Zebra', 1, 2, 3, 4, 5]\n"
     ]
    }
   ],
   "source": [
    "a = [\"1zebra\",\"animal\",\"cat\",\"lion\",\"tiger\",\"Zebra\"]\n",
    "b = [1,2,3,4,5]\n",
    "a.extend(b)\n",
    "print(a)"
   ]
  },
  {
   "cell_type": "code",
   "execution_count": 72,
   "id": "9ce2bbb5",
   "metadata": {},
   "outputs": [
    {
     "name": "stdout",
     "output_type": "stream",
     "text": [
      "enter a number = 3\n",
      "enter a number = 4\n",
      "enter a number = 5\n",
      "enter a number = 5\n",
      "[4, 5, 5]\n"
     ]
    }
   ],
   "source": [
    "a = []\n",
    "n = int(input(\"enter a number = \"))\n",
    "for i in range(n):\n",
    "    x = int(input(\"enter a number = \"))\n",
    "    a.append(x)\n",
    "print(a)"
   ]
  },
  {
   "cell_type": "code",
   "execution_count": 75,
   "id": "f34c2861",
   "metadata": {},
   "outputs": [
    {
     "name": "stdout",
     "output_type": "stream",
     "text": [
      "enter a name: bipin\n",
      "no\n"
     ]
    }
   ],
   "source": [
    "a = [\"1zebra\",\"animal\",\"cat\",\"lion\",\"tiger\",\"Zebra\"]\n",
    "n = input(\"enter a name: \")\n",
    "if n in a:\n",
    "    print(\"yes\")\n",
    "else:\n",
    "    print(\"no\")"
   ]
  },
  {
   "cell_type": "code",
   "execution_count": 79,
   "id": "0e74566e",
   "metadata": {},
   "outputs": [
    {
     "data": {
      "text/plain": [
       "2"
      ]
     },
     "execution_count": 79,
     "metadata": {},
     "output_type": "execute_result"
    }
   ],
   "source": [
    "a = [\"1zebra\",\"animal\",\"cat\",\"lion\",\"tiger\",\"Zebra\", \"cat\",\"woman\"]\n",
    "a.count(\"cat\")\n"
   ]
  },
  {
   "cell_type": "code",
   "execution_count": 1,
   "id": "822e850a",
   "metadata": {},
   "outputs": [],
   "source": [
    "# delete \n",
    "# del remove() pop()"
   ]
  },
  {
   "cell_type": "code",
   "execution_count": 3,
   "id": "735b9cc0",
   "metadata": {},
   "outputs": [
    {
     "name": "stdout",
     "output_type": "stream",
     "text": [
      "woman\n"
     ]
    },
    {
     "data": {
      "text/plain": [
       "'cat'"
      ]
     },
     "execution_count": 3,
     "metadata": {},
     "output_type": "execute_result"
    }
   ],
   "source": [
    "a = [\"1zebra\",\"animal\",\"cat\",\"lion\",\"tiger\",\"Zebra\", \"cat\",\"woman\"]\n",
    "set = a.pop()\n",
    "print(set)"
   ]
  },
  {
   "cell_type": "code",
   "execution_count": 9,
   "id": "cb88f630",
   "metadata": {},
   "outputs": [
    {
     "name": "stdout",
     "output_type": "stream",
     "text": [
      "['1zebra', 'cat', 'lion', 'tiger', 'Zebra', 'cat', 'woman']\n"
     ]
    },
    {
     "data": {
      "text/plain": [
       "4"
      ]
     },
     "execution_count": 9,
     "metadata": {},
     "output_type": "execute_result"
    }
   ],
   "source": [
    "a = [\"1zebra\",\"animal\",\"cat\",\"lion\",\"tiger\",\"Zebra\", \"cat\",\"woman\"]\n",
    "del a[1]\n",
    "print(a)\n",
    "a.index(\"Zebra\")"
   ]
  },
  {
   "cell_type": "code",
   "execution_count": 14,
   "id": "a1d843cc",
   "metadata": {},
   "outputs": [
    {
     "name": "stdout",
     "output_type": "stream",
     "text": [
      "['1zebra', 'Zebra', 'animal', 'lion', 'tiger', 'woman']\n"
     ]
    }
   ],
   "source": [
    "a = [\"1zebra\",\"animal\",\"cat\",\"lion\",\"tiger\",\"Zebra\", \"cat\",\"woman\"]\n",
    "a.sort()\n",
    "for i in range(2):\n",
    "    a.remove(\"cat\")\n",
    "print(a)"
   ]
  },
  {
   "cell_type": "code",
   "execution_count": 17,
   "id": "c42efbf1",
   "metadata": {},
   "outputs": [
    {
     "name": "stdout",
     "output_type": "stream",
     "text": [
      "['1zebra', 'animal', 'lion', 'tiger', 'Zebra', 'woman']\n"
     ]
    }
   ],
   "source": [
    "a = [\"1zebra\",\"animal\",\"cat\",\"lion\",\"tiger\",\"Zebra\", \"cat\",\"woman\"]\n",
    "n = a.count(\"cat\")\n",
    "for i in range(n):\n",
    "    a.remove(\"cat\")\n",
    "print(a)"
   ]
  },
  {
   "cell_type": "code",
   "execution_count": 21,
   "id": "12d7f6fd",
   "metadata": {},
   "outputs": [
    {
     "name": "stdout",
     "output_type": "stream",
     "text": [
      "['apple', 'ball', 'cat', 'dog', 'fish', 'gold', 'gold', 'gold']\n",
      "3\n"
     ]
    }
   ],
   "source": [
    "b = ['apple','cat','ball','fish','dog','gold','gold','gold']\n",
    "m=b.count('gold')\n",
    "b.sort()\n",
    "print(b)\n",
    "print(m)"
   ]
  },
  {
   "cell_type": "code",
   "execution_count": 31,
   "id": "cc55b849",
   "metadata": {},
   "outputs": [
    {
     "name": "stdout",
     "output_type": "stream",
     "text": [
      "5\n",
      "6\n",
      "7\n"
     ]
    }
   ],
   "source": [
    "b = ['apple','cat','ball','fish','dog','gold','gold','gold']\n",
    "for i in range(len(b)):\n",
    "    if b[i] == \"gold\":\n",
    "        print(i)\n",
    "    "
   ]
  },
  {
   "cell_type": "code",
   "execution_count": 43,
   "id": "390334d8",
   "metadata": {},
   "outputs": [
    {
     "name": "stdout",
     "output_type": "stream",
     "text": [
      "Gold\n",
      "Golden\n",
      "Goldman\n"
     ]
    }
   ],
   "source": [
    "a = ['Apple','Cat','Ball','Fish','Dog','Gold','Golden','Goldman','cat','ball']\n",
    "for i in a:\n",
    "    if i[0] == \"G\":\n",
    "        print(i)"
   ]
  },
  {
   "cell_type": "code",
   "execution_count": 33,
   "id": "2dd10faf",
   "metadata": {},
   "outputs": [
    {
     "name": "stdout",
     "output_type": "stream",
     "text": [
      "0\n",
      "1\n",
      "2\n",
      "3\n",
      "4\n",
      "5\n",
      "6\n",
      "7\n",
      "8\n",
      "9\n"
     ]
    }
   ],
   "source": [
    "a = ['Apple','Cat','Ball','Fish','Dog','Gold','Gold','gold','cat','ball']\n",
    "for i in range(len(a)):\n",
    "    print(i)"
   ]
  },
  {
   "cell_type": "code",
   "execution_count": 56,
   "id": "c5df28cb",
   "metadata": {},
   "outputs": [
    {
     "name": "stdout",
     "output_type": "stream",
     "text": [
      "[[1, 2, 3], [4, 5, 6], [7, 8, 9]]\n",
      "<class 'list'>\n",
      "3\n",
      "[1, 2, 3]\n",
      "[4, 5, 6]\n",
      "[7, 8, 9]\n",
      "9\n"
     ]
    }
   ],
   "source": [
    "# List inside List\n",
    "#two-dimensional array\n",
    "a = [[1,2,3],[4,5,6],[7,8,9]]\n",
    "print(a)\n",
    "print(type(a))\n",
    "print(len(a))\n",
    "print(a[0])\n",
    "print(a[1])\n",
    "print(a[2])\n",
    "print(a[2][2])"
   ]
  },
  {
   "cell_type": "code",
   "execution_count": 57,
   "id": "0f0d0101",
   "metadata": {},
   "outputs": [
    {
     "name": "stdout",
     "output_type": "stream",
     "text": [
      "[['Ram', 40, 'kathmandu'], ['shyam', 22, 'dang'], ['hari', 30, 'taplejung']]\n"
     ]
    }
   ],
   "source": [
    "info = [['Ram',40,'kathmandu'],['shyam',22,'dang'],['hari',30,'taplejung']]\n",
    "print(info)"
   ]
  },
  {
   "cell_type": "code",
   "execution_count": 73,
   "id": "0b719072",
   "metadata": {},
   "outputs": [
    {
     "name": "stdout",
     "output_type": "stream",
     "text": [
      "enter n = 2\n",
      "enter a name: ram\n",
      "enter a age: 19\n",
      "enter your address: nepal\n",
      "enter a name: sita\n",
      "enter a age: 20\n",
      "enter your address: india\n",
      "[['ram', 19, 'nepal'], ['sita', 20, 'india']]\n"
     ]
    }
   ],
   "source": [
    "info = []\n",
    "n = int(input(\"enter n = \"))\n",
    "for i in range(n):\n",
    "    name = input(\"enter a name: \")\n",
    "    age = int(input(\"enter a age: \"))\n",
    "    address = input(\"enter your address: \")\n",
    "    data = [name,age,address]\n",
    "    info.append(data)\n",
    "print(info)\n"
   ]
  },
  {
   "cell_type": "code",
   "execution_count": 74,
   "id": "aec14400",
   "metadata": {},
   "outputs": [
    {
     "name": "stdout",
     "output_type": "stream",
     "text": [
      "[['ram', 19, 'nepal'], ['sita', 20, 'india']]\n",
      "[['bipin', 19, 'nepal'], ['sita', 20, 'india']]\n"
     ]
    }
   ],
   "source": [
    "print(info)\n",
    "info[0][0] = \"bipin\"\n",
    "print(info)"
   ]
  },
  {
   "cell_type": "code",
   "execution_count": 75,
   "id": "24b8518e",
   "metadata": {},
   "outputs": [
    {
     "name": "stdout",
     "output_type": "stream",
     "text": [
      "[[19, 'nepal'], ['sita', 20, 'india']]\n"
     ]
    }
   ],
   "source": [
    "del info[0][0]\n",
    "print(info)"
   ]
  },
  {
   "cell_type": "code",
   "execution_count": 76,
   "id": "ea8ca4a6",
   "metadata": {},
   "outputs": [
    {
     "name": "stdout",
     "output_type": "stream",
     "text": [
      "[['ram', 19, 'nepal']]\n",
      "['sita', 20, 'india']\n"
     ]
    }
   ],
   "source": [
    "#pop\n",
    "a = [['ram', 19, 'nepal'], ['sita', 20, 'india']]\n",
    "b = a.pop(1)\n",
    "print(a)\n",
    "print(b)"
   ]
  },
  {
   "cell_type": "code",
   "execution_count": null,
   "id": "c606eb0f",
   "metadata": {},
   "outputs": [],
   "source": [
    "# search row data using name\n",
    "# a = [['ram', 19, 'nepal'], ['sita', 20, 'india']]"
   ]
  }
 ],
 "metadata": {
  "kernelspec": {
   "display_name": "Python 3 (ipykernel)",
   "language": "python",
   "name": "python3"
  },
  "language_info": {
   "codemirror_mode": {
    "name": "ipython",
    "version": 3
   },
   "file_extension": ".py",
   "mimetype": "text/x-python",
   "name": "python",
   "nbconvert_exporter": "python",
   "pygments_lexer": "ipython3",
   "version": "3.10.9"
  }
 },
 "nbformat": 4,
 "nbformat_minor": 5
}
