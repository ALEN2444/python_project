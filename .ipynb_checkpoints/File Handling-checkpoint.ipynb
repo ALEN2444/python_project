{
 "cells": [
  {
   "cell_type": "code",
   "execution_count": 1,
   "id": "4865779d",
   "metadata": {},
   "outputs": [],
   "source": [
    "# b = open('<file_name>','<modes>')\n",
    "# b.close()\n",
    "\n",
    "# with open('<file_name>','<modes>') as file:\n",
    "#     <operations>"
   ]
  },
  {
   "cell_type": "code",
   "execution_count": 2,
   "id": "2e837bed",
   "metadata": {},
   "outputs": [],
   "source": [
    "# modes \n",
    "# read -> r\n",
    "# write -> w\n",
    "# create -> x\n",
    "# append -> a"
   ]
  },
  {
   "cell_type": "code",
   "execution_count": 3,
   "id": "1f153b89",
   "metadata": {},
   "outputs": [],
   "source": [
    "file = open('data.txt','x')\n",
    "file.close()"
   ]
  },
  {
   "cell_type": "code",
   "execution_count": 9,
   "id": "f9099b09",
   "metadata": {},
   "outputs": [
    {
     "name": "stdout",
     "output_type": "stream",
     "text": [
      "<class 'str'>\n",
      "Hello World\n",
      "Hello Nepal\n",
      "Hello Kathmandu\n",
      "Hello Shankhamul\n"
     ]
    }
   ],
   "source": [
    "file = open('data.txt','r')\n",
    "x = file.read()\n",
    "print(type(x))\n",
    "print(x)\n",
    "file.close()"
   ]
  },
  {
   "cell_type": "code",
   "execution_count": 12,
   "id": "21e4339a",
   "metadata": {
    "scrolled": true
   },
   "outputs": [
    {
     "data": {
      "text/plain": [
       "['Hello World', 'Hello Nepal', 'Hello Kathmandu', 'Hello Shankhamul']"
      ]
     },
     "execution_count": 12,
     "metadata": {},
     "output_type": "execute_result"
    }
   ],
   "source": [
    "x.split('\\n')\n"
   ]
  },
  {
   "cell_type": "code",
   "execution_count": 14,
   "id": "714f38f1",
   "metadata": {},
   "outputs": [],
   "source": [
    "file = open ('data.txt','w')\n",
    "file.write('Hello World')\n",
    "file.close()"
   ]
  },
  {
   "cell_type": "code",
   "execution_count": 22,
   "id": "cddbc1c6",
   "metadata": {},
   "outputs": [
    {
     "name": "stdout",
     "output_type": "stream",
     "text": [
      "enter number of entries: \n",
      "2\n",
      "enter your product name: bread\n",
      "enter product's price: 45\n",
      "enter number of product: 4\n",
      "enter your product name: milk\n",
      "enter product's price: 90\n",
      "enter number of product: 2\n",
      " name = bread price = 45.0 quantity = 4 total = 180.0 \n",
      " name = milk price = 90.0 quantity = 2 total = 180.0 \n",
      "\n",
      "Total price:  360.0\n"
     ]
    }
   ],
   "source": [
    "info = \"\"\n",
    "grand_total = 0\n",
    "n = int(input(\"enter number of entries: \" \"\\n\"))\n",
    "\n",
    "for i in range(n):\n",
    "    name = input(\"enter your product name: \")\n",
    "    price = float(input(\"enter product's price: \"))\n",
    "    quantity = int(input(\"enter number of product: \"))\n",
    "    total = price * quantity\n",
    "    grand_total = grand_total + total\n",
    "    x = f\" name = {name} price = {price} quantity = {quantity} total = {total} \\n\"\n",
    "    info = info + x\n",
    "print(info)\n",
    "print(\"Total price: \",grand_total)\n",
    "\n",
    "file = open('bill.txt', 'w')\n",
    "file.write(info)\n",
    "file.close()"
   ]
  },
  {
   "cell_type": "code",
   "execution_count": 24,
   "id": "9086d8e8",
   "metadata": {},
   "outputs": [
    {
     "name": "stdout",
     "output_type": "stream",
     "text": [
      "enter number of entries: \n",
      "2\n",
      "enter your product name: bread\n",
      "enter product's price: 45\n",
      "enter number of product: 5\n",
      "enter your product name: milk\n",
      "enter product's price: 90\n",
      "enter number of product: 6\n"
     ]
    }
   ],
   "source": [
    "info = \"\"\n",
    "file = open('bill2.txt', 'a')\n",
    "grand_total = 0\n",
    "n = int(input(\"enter number of entries: \" \"\\n\"))\n",
    "\n",
    "for i in range(n):\n",
    "    name = input(\"enter your product name: \")\n",
    "    price = float(input(\"enter product's price: \"))\n",
    "    quantity = int(input(\"enter number of product: \"))\n",
    "    total = price * quantity\n",
    "    grand_total = grand_total + total\n",
    "    x = f\" name = {name} price = {price} quantity = {quantity} total = {total} \\n\"\n",
    "    file.write(info)\n",
    "\n",
    "\n",
    "file.close()\n"
   ]
  },
  {
   "cell_type": "code",
   "execution_count": null,
   "id": "e13408a9",
   "metadata": {},
   "outputs": [],
   "source": []
  },
  {
   "cell_type": "code",
   "execution_count": null,
   "id": "df279cfa",
   "metadata": {},
   "outputs": [],
   "source": []
  },
  {
   "cell_type": "code",
   "execution_count": null,
   "id": "c22430db",
   "metadata": {},
   "outputs": [],
   "source": []
  }
 ],
 "metadata": {
  "kernelspec": {
   "display_name": "Python 3 (ipykernel)",
   "language": "python",
   "name": "python3"
  },
  "language_info": {
   "codemirror_mode": {
    "name": "ipython",
    "version": 3
   },
   "file_extension": ".py",
   "mimetype": "text/x-python",
   "name": "python",
   "nbconvert_exporter": "python",
   "pygments_lexer": "ipython3",
   "version": "3.10.9"
  }
 },
 "nbformat": 4,
 "nbformat_minor": 5
}
